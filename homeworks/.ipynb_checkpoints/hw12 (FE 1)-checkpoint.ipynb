{
 "cells": [
  {
   "cell_type": "code",
   "execution_count": 1,
   "metadata": {},
   "outputs": [],
   "source": [
    "import pandas as pd\n",
    "import numpy as np\n",
    "import matplotlib.pyplot as plt\n",
    "import seaborn as sns\n",
    "%matplotlib inline\n",
    "import datetime"
   ]
  },
  {
   "cell_type": "markdown",
   "metadata": {},
   "source": [
    "## Rosbank ML Competition"
   ]
  },
  {
   "cell_type": "markdown",
   "metadata": {},
   "source": [
    "Ссылка на соревнование: https://boosters.pro/champ_15"
   ]
  },
  {
   "cell_type": "markdown",
   "metadata": {},
   "source": [
    "Росбанк – часть ведущей международной финансовой группы Societe Generale, банк включен ЦБ РФ в число 11 системно значимых кредитных организаций России. Инновации неотъемлемый процесс работы Росбанка, поэтому активно развивается направленный анализа больших данных."
   ]
  },
  {
   "cell_type": "markdown",
   "metadata": {},
   "source": [
    "- Данные\n",
    "\n",
    "Датасет, который содержит историю транзакций клиентов за 3 месяца льготного использования банковского продукта\n",
    "\n",
    "- Задача\n",
    "\n",
    "Задача бинарной классификации – прогноз оттока клиентов\n",
    "\n",
    "Колонка cl_id содержит вутренний id клиента. Для каждого уникальнго cl_id следует предсказать продолжит ли клиент пользоваться продуктом (target_flag). Значение 0 соответствует отказу, а значение 1 соответствует продолжению использования"
   ]
  },
  {
   "cell_type": "code",
   "execution_count": 2,
   "metadata": {},
   "outputs": [],
   "source": [
    "raw_df = pd.read_csv('rosbank_train.csv')\n",
    "raw_df = raw_df.drop(columns=('target_sum'))\n",
    "# target_sum - можно выкинуть, переменная участвует в другой задаче"
   ]
  },
  {
   "cell_type": "code",
   "execution_count": 3,
   "metadata": {},
   "outputs": [
    {
     "name": "stdout",
     "output_type": "stream",
     "text": [
      "<class 'pandas.core.frame.DataFrame'>\n",
      "RangeIndex: 490513 entries, 0 to 490512\n",
      "Data columns (total 9 columns):\n",
      "PERIOD          490513 non-null object\n",
      "cl_id           490513 non-null int64\n",
      "MCC             490513 non-null int64\n",
      "channel_type    487603 non-null object\n",
      "currency        490513 non-null int64\n",
      "TRDATETIME      490513 non-null object\n",
      "amount          490513 non-null float64\n",
      "trx_category    490513 non-null object\n",
      "target_flag     490513 non-null int64\n",
      "dtypes: float64(1), int64(4), object(4)\n",
      "memory usage: 33.7+ MB\n"
     ]
    }
   ],
   "source": [
    "raw_df.info()"
   ]
  },
  {
   "cell_type": "markdown",
   "metadata": {},
   "source": [
    "## Домашняя работа\n",
    "\n",
    "1. Наборы данных вида Transactions (несколько транзакций на одного клиента) трансформировать в таблицу, где cl_id будут уникальными (соответственно 4000 строк в train и 1000 строк в test\n",
    "2. Для каждого cl_id будет уникальное целевое событие target_flag, а также уникальный канал привлечения клиента channel_type (клиент привлекается лишь однажды и с самого начала его записи присваивается значение канала привлечения)\n",
    "3. При агрегации (*pandas.DataFrame.groupby*) по cl_id (или по связке cl_id, channel_type, target_flag) необходимо создавать производные фичи, идеи для таких фичей могут быть следующими:\n",
    "\n",
    "    - общая сумма транзакций по каждой из trx_category\n",
    "    - общая сумма транзакции по основным вылютам (напр. выделить рубли, доллары и евро - предположительно, это будут самые крупные категории)\n",
    "    - общая сумма транзакций по категориям MCC кодов (например, выбрать основные/популярные MCC коды). ВНИМАНИ! Некоторые MCC коды из train могут быть не представлены в test. Про MCC коды в целом: http://www.banki.ru/wikibank/mcc-kod/; Справочник MCC кодов: https://mcc-codes.ru/code; Про некоторые категории кэшбека Росбанка: https://mcc-codes.ru/card/rosbank-sverkh-plus;\n",
    "    - возможные агрегации по времени суток и дням недели - траты в выходные (праздники) или будни, в ночное время или в рабочее и т.д.\n",
    "4. **Обязательная часть**: провести первичный анализ данных - посмотреть распределения признаков, выделить самые популярные MCC, помотреть активность клиентов по дням недели/времени, какие категории транзакции (trx_category) наиболее популярны и т.д. Получить инсайты, которые в дальнейшем помогут вам правильно подготовить фичи\n",
    "5. **Дополнительная часть**: с отобранными фичами и полученными компонентами обучить модель (тип алгоритма на свой вкус, можно начать с линейной) и померить качество на локальном тестовом наборе данных (локальная валидация), который создается в этом ноутбуке. **Метрика оценки качества - ROC AUC**(https://en.wikipedia.org/wiki/Receiver_operating_characteristic)\n",
    "6. Задания принимаются в виде ноутбука с кодов/картинками выполненной обязательной части\n",
    "\n",
    "При возникновении вопросов и для отправки домашнего задания - egsachko@gmail.com или http://fb.com/sachkoe\n",
    "    "
   ]
  },
  {
   "cell_type": "markdown",
   "metadata": {},
   "source": [
    "## Практика"
   ]
  },
  {
   "cell_type": "code",
   "execution_count": 4,
   "metadata": {},
   "outputs": [
    {
     "data": {
      "text/html": [
       "<div>\n",
       "<style scoped>\n",
       "    .dataframe tbody tr th:only-of-type {\n",
       "        vertical-align: middle;\n",
       "    }\n",
       "\n",
       "    .dataframe tbody tr th {\n",
       "        vertical-align: top;\n",
       "    }\n",
       "\n",
       "    .dataframe thead th {\n",
       "        text-align: right;\n",
       "    }\n",
       "</style>\n",
       "<table border=\"1\" class=\"dataframe\">\n",
       "  <thead>\n",
       "    <tr style=\"text-align: right;\">\n",
       "      <th></th>\n",
       "      <th>PERIOD</th>\n",
       "      <th>cl_id</th>\n",
       "      <th>MCC</th>\n",
       "      <th>channel_type</th>\n",
       "      <th>currency</th>\n",
       "      <th>TRDATETIME</th>\n",
       "      <th>amount</th>\n",
       "      <th>trx_category</th>\n",
       "      <th>target_flag</th>\n",
       "    </tr>\n",
       "  </thead>\n",
       "  <tbody>\n",
       "    <tr>\n",
       "      <th>0</th>\n",
       "      <td>01/10/2017</td>\n",
       "      <td>0</td>\n",
       "      <td>5200</td>\n",
       "      <td>NaN</td>\n",
       "      <td>810</td>\n",
       "      <td>21OCT17:00:00:00</td>\n",
       "      <td>5023.0</td>\n",
       "      <td>POS</td>\n",
       "      <td>0</td>\n",
       "    </tr>\n",
       "    <tr>\n",
       "      <th>1</th>\n",
       "      <td>01/10/2017</td>\n",
       "      <td>0</td>\n",
       "      <td>6011</td>\n",
       "      <td>NaN</td>\n",
       "      <td>810</td>\n",
       "      <td>12OCT17:12:24:07</td>\n",
       "      <td>20000.0</td>\n",
       "      <td>DEPOSIT</td>\n",
       "      <td>0</td>\n",
       "    </tr>\n",
       "    <tr>\n",
       "      <th>2</th>\n",
       "      <td>01/12/2017</td>\n",
       "      <td>0</td>\n",
       "      <td>5921</td>\n",
       "      <td>NaN</td>\n",
       "      <td>810</td>\n",
       "      <td>05DEC17:00:00:00</td>\n",
       "      <td>767.0</td>\n",
       "      <td>POS</td>\n",
       "      <td>0</td>\n",
       "    </tr>\n",
       "    <tr>\n",
       "      <th>3</th>\n",
       "      <td>01/10/2017</td>\n",
       "      <td>0</td>\n",
       "      <td>5411</td>\n",
       "      <td>NaN</td>\n",
       "      <td>810</td>\n",
       "      <td>21OCT17:00:00:00</td>\n",
       "      <td>2031.0</td>\n",
       "      <td>POS</td>\n",
       "      <td>0</td>\n",
       "    </tr>\n",
       "    <tr>\n",
       "      <th>4</th>\n",
       "      <td>01/10/2017</td>\n",
       "      <td>0</td>\n",
       "      <td>6012</td>\n",
       "      <td>NaN</td>\n",
       "      <td>810</td>\n",
       "      <td>24OCT17:13:14:24</td>\n",
       "      <td>36562.0</td>\n",
       "      <td>C2C_OUT</td>\n",
       "      <td>0</td>\n",
       "    </tr>\n",
       "  </tbody>\n",
       "</table>\n",
       "</div>"
      ],
      "text/plain": [
       "       PERIOD  cl_id   MCC channel_type  currency        TRDATETIME   amount  \\\n",
       "0  01/10/2017      0  5200          NaN       810  21OCT17:00:00:00   5023.0   \n",
       "1  01/10/2017      0  6011          NaN       810  12OCT17:12:24:07  20000.0   \n",
       "2  01/12/2017      0  5921          NaN       810  05DEC17:00:00:00    767.0   \n",
       "3  01/10/2017      0  5411          NaN       810  21OCT17:00:00:00   2031.0   \n",
       "4  01/10/2017      0  6012          NaN       810  24OCT17:13:14:24  36562.0   \n",
       "\n",
       "  trx_category  target_flag  \n",
       "0          POS            0  \n",
       "1      DEPOSIT            0  \n",
       "2          POS            0  \n",
       "3          POS            0  \n",
       "4      C2C_OUT            0  "
      ]
     },
     "execution_count": 4,
     "metadata": {},
     "output_type": "execute_result"
    }
   ],
   "source": [
    "raw_df.head()"
   ]
  },
  {
   "cell_type": "markdown",
   "metadata": {},
   "source": [
    "Среди транзакций есть покупки в валюте. Интересно, это клиенты с отдельным карточным продуктом или это один продукт, просто клиенты ездят / покупают за границей"
   ]
  },
  {
   "cell_type": "code",
   "execution_count": 5,
   "metadata": {},
   "outputs": [
    {
     "name": "stdout",
     "output_type": "stream",
     "text": [
      "В валюте покупают 1128, в рублях покупают 5000\n"
     ]
    }
   ],
   "source": [
    "print('В валюте покупают {}, в рублях покупают {}'.format(len(raw_df[raw_df.currency != 810].cl_id.unique()), len(raw_df[~raw_df.currency != 810].cl_id.unique())))"
   ]
  },
  {
   "cell_type": "markdown",
   "metadata": {},
   "source": [
    "Учитывая, что всего клиентов у нас 5000, среди них есть 1128, кто хотябы раз делал покупки в валюте.\n",
    "Думаю будет правильно привести все транзакции к рублям. Далее будем выделять клиентов кто покупает в валюте и в рублях."
   ]
  },
  {
   "cell_type": "markdown",
   "metadata": {},
   "source": [
    "Распарсим сайт ЦБР и соберем с него знаения курсов валют за сегодняшню дату.\n",
    "Напишем функцию, которая принимает на вход:\n",
    "- объем транзакции\n",
    "- валюту\n",
    "\n",
    "Возвращает:\n",
    "- сконвертированное по текущему курсу значение"
   ]
  },
  {
   "cell_type": "code",
   "execution_count": 6,
   "metadata": {},
   "outputs": [],
   "source": [
    "from bs4 import BeautifulSoup as bs\n",
    "import requests\n",
    "import urllib\n",
    "from urllib.request import urlopen, Request"
   ]
  },
  {
   "cell_type": "code",
   "execution_count": 7,
   "metadata": {},
   "outputs": [],
   "source": [
    "headers = {\n",
    "\n",
    "    'User-Agent': 'Mozilla/5.0 (Windows NT 10.0; Win64; x64) AppleWebKit/537.36 (KHTML, like Gecko) Chrome/72.0.3626.96 Safari/537.36'\n",
    "}\n",
    "reg_url = 'http://www.cbr.ru/currency_base/daily/'\n",
    "req = Request(url=reg_url, headers=headers)"
   ]
  },
  {
   "cell_type": "code",
   "execution_count": 8,
   "metadata": {},
   "outputs": [
    {
     "data": {
      "text/plain": [
       "['', '051', 'AMD', '100', 'Армянских драмов', '13,6759', '']"
      ]
     },
     "execution_count": 8,
     "metadata": {},
     "output_type": "execute_result"
    }
   ],
   "source": [
    "cbr = bs(urlopen(req).read())\n",
    "ex = cbr.findAll('tr')[1:]\n",
    "ex[2].text.split('\\n')"
   ]
  },
  {
   "cell_type": "code",
   "execution_count": 9,
   "metadata": {
    "scrolled": false
   },
   "outputs": [
    {
     "data": {
      "text/plain": [
       "13.6759"
      ]
     },
     "execution_count": 9,
     "metadata": {},
     "output_type": "execute_result"
    }
   ],
   "source": [
    "exch_rates = {}\n",
    "for i in range(len(ex)):\n",
    "    rates = ex[i].text.split('\\n')\n",
    "    exch_rates[rates[1]] = [rates[3], rates[5]]\n",
    "float(exch_rates['051'][1].replace(',','.'))"
   ]
  },
  {
   "cell_type": "code",
   "execution_count": 10,
   "metadata": {},
   "outputs": [
    {
     "data": {
      "text/plain": [
       "13.68"
      ]
     },
     "execution_count": 10,
     "metadata": {},
     "output_type": "execute_result"
    }
   ],
   "source": [
    "def exchanger(total, currency):\n",
    "    if currency not in exch_rates:\n",
    "        return total\n",
    "    else:\n",
    "        return round(total / int(exch_rates[currency][0]) * float(exch_rates[currency][1].replace(',','.')), 2)\n",
    "exchanger(100, '051')"
   ]
  },
  {
   "cell_type": "code",
   "execution_count": 11,
   "metadata": {},
   "outputs": [],
   "source": [
    "raw_df['amount_rub'] = raw_df.apply(lambda x: exchanger(x['amount'], str(x['currency'])), axis=1)"
   ]
  },
  {
   "cell_type": "code",
   "execution_count": 12,
   "metadata": {},
   "outputs": [
    {
     "data": {
      "text/html": [
       "<div>\n",
       "<style scoped>\n",
       "    .dataframe tbody tr th:only-of-type {\n",
       "        vertical-align: middle;\n",
       "    }\n",
       "\n",
       "    .dataframe tbody tr th {\n",
       "        vertical-align: top;\n",
       "    }\n",
       "\n",
       "    .dataframe thead th {\n",
       "        text-align: right;\n",
       "    }\n",
       "</style>\n",
       "<table border=\"1\" class=\"dataframe\">\n",
       "  <thead>\n",
       "    <tr style=\"text-align: right;\">\n",
       "      <th></th>\n",
       "      <th>PERIOD</th>\n",
       "      <th>cl_id</th>\n",
       "      <th>MCC</th>\n",
       "      <th>channel_type</th>\n",
       "      <th>currency</th>\n",
       "      <th>TRDATETIME</th>\n",
       "      <th>amount</th>\n",
       "      <th>trx_category</th>\n",
       "      <th>target_flag</th>\n",
       "      <th>amount_rub</th>\n",
       "    </tr>\n",
       "  </thead>\n",
       "  <tbody>\n",
       "    <tr>\n",
       "      <th>10</th>\n",
       "      <td>01/09/2017</td>\n",
       "      <td>1</td>\n",
       "      <td>4111</td>\n",
       "      <td>NaN</td>\n",
       "      <td>978</td>\n",
       "      <td>30SEP17:00:00:00</td>\n",
       "      <td>17.10</td>\n",
       "      <td>POS</td>\n",
       "      <td>0</td>\n",
       "      <td>1286.76</td>\n",
       "    </tr>\n",
       "    <tr>\n",
       "      <th>12</th>\n",
       "      <td>01/10/2017</td>\n",
       "      <td>1</td>\n",
       "      <td>5812</td>\n",
       "      <td>NaN</td>\n",
       "      <td>978</td>\n",
       "      <td>01OCT17:00:00:00</td>\n",
       "      <td>21.00</td>\n",
       "      <td>POS</td>\n",
       "      <td>0</td>\n",
       "      <td>1580.23</td>\n",
       "    </tr>\n",
       "    <tr>\n",
       "      <th>19</th>\n",
       "      <td>01/09/2017</td>\n",
       "      <td>1</td>\n",
       "      <td>5411</td>\n",
       "      <td>NaN</td>\n",
       "      <td>978</td>\n",
       "      <td>26SEP17:00:00:00</td>\n",
       "      <td>32.73</td>\n",
       "      <td>POS</td>\n",
       "      <td>0</td>\n",
       "      <td>2462.91</td>\n",
       "    </tr>\n",
       "    <tr>\n",
       "      <th>23</th>\n",
       "      <td>01/09/2017</td>\n",
       "      <td>1</td>\n",
       "      <td>5812</td>\n",
       "      <td>NaN</td>\n",
       "      <td>978</td>\n",
       "      <td>27SEP17:00:00:00</td>\n",
       "      <td>34.10</td>\n",
       "      <td>POS</td>\n",
       "      <td>0</td>\n",
       "      <td>2566.00</td>\n",
       "    </tr>\n",
       "    <tr>\n",
       "      <th>25</th>\n",
       "      <td>01/10/2017</td>\n",
       "      <td>1</td>\n",
       "      <td>5812</td>\n",
       "      <td>NaN</td>\n",
       "      <td>978</td>\n",
       "      <td>03OCT17:00:00:00</td>\n",
       "      <td>83.90</td>\n",
       "      <td>POS</td>\n",
       "      <td>0</td>\n",
       "      <td>6313.41</td>\n",
       "    </tr>\n",
       "  </tbody>\n",
       "</table>\n",
       "</div>"
      ],
      "text/plain": [
       "        PERIOD  cl_id   MCC channel_type  currency        TRDATETIME  amount  \\\n",
       "10  01/09/2017      1  4111          NaN       978  30SEP17:00:00:00   17.10   \n",
       "12  01/10/2017      1  5812          NaN       978  01OCT17:00:00:00   21.00   \n",
       "19  01/09/2017      1  5411          NaN       978  26SEP17:00:00:00   32.73   \n",
       "23  01/09/2017      1  5812          NaN       978  27SEP17:00:00:00   34.10   \n",
       "25  01/10/2017      1  5812          NaN       978  03OCT17:00:00:00   83.90   \n",
       "\n",
       "   trx_category  target_flag  amount_rub  \n",
       "10          POS            0     1286.76  \n",
       "12          POS            0     1580.23  \n",
       "19          POS            0     2462.91  \n",
       "23          POS            0     2566.00  \n",
       "25          POS            0     6313.41  "
      ]
     },
     "execution_count": 12,
     "metadata": {},
     "output_type": "execute_result"
    }
   ],
   "source": [
    "raw_df[raw_df['currency'] != 810].head()"
   ]
  },
  {
   "cell_type": "markdown",
   "metadata": {},
   "source": [
    "Создадим дополнительную колонку, где разобьем транзакции по типу валюты"
   ]
  },
  {
   "cell_type": "code",
   "execution_count": 13,
   "metadata": {},
   "outputs": [],
   "source": [
    "def currency_classifier(curr):\n",
    "    if curr == '810' or curr == '643':\n",
    "        return 'rub'\n",
    "    elif curr == '978':\n",
    "        return 'eur'\n",
    "    elif curr == '840':\n",
    "        return 'usd'\n",
    "    elif curr == '944' or curr == '051' or curr == '933' or curr == '398' or curr == '860' or curr == '417' or curr == '498' or curr == '972':\n",
    "        return 'cis'\n",
    "    else:\n",
    "        return 'oth'"
   ]
  },
  {
   "cell_type": "code",
   "execution_count": 14,
   "metadata": {},
   "outputs": [],
   "source": [
    "raw_df['curr_type'] = raw_df.apply(lambda x: currency_classifier(str(x['currency'])), axis=1)"
   ]
  },
  {
   "cell_type": "code",
   "execution_count": 15,
   "metadata": {},
   "outputs": [
    {
     "data": {
      "text/html": [
       "<div>\n",
       "<style scoped>\n",
       "    .dataframe tbody tr th:only-of-type {\n",
       "        vertical-align: middle;\n",
       "    }\n",
       "\n",
       "    .dataframe tbody tr th {\n",
       "        vertical-align: top;\n",
       "    }\n",
       "\n",
       "    .dataframe thead th {\n",
       "        text-align: right;\n",
       "    }\n",
       "</style>\n",
       "<table border=\"1\" class=\"dataframe\">\n",
       "  <thead>\n",
       "    <tr style=\"text-align: right;\">\n",
       "      <th></th>\n",
       "      <th>PERIOD</th>\n",
       "      <th>cl_id</th>\n",
       "      <th>MCC</th>\n",
       "      <th>channel_type</th>\n",
       "      <th>currency</th>\n",
       "      <th>TRDATETIME</th>\n",
       "      <th>amount</th>\n",
       "      <th>trx_category</th>\n",
       "      <th>target_flag</th>\n",
       "      <th>amount_rub</th>\n",
       "      <th>curr_type</th>\n",
       "    </tr>\n",
       "  </thead>\n",
       "  <tbody>\n",
       "    <tr>\n",
       "      <th>13677</th>\n",
       "      <td>01/08/2017</td>\n",
       "      <td>285</td>\n",
       "      <td>5411</td>\n",
       "      <td>type2</td>\n",
       "      <td>933</td>\n",
       "      <td>06AUG17:00:00:00</td>\n",
       "      <td>88.83</td>\n",
       "      <td>POS</td>\n",
       "      <td>1</td>\n",
       "      <td>2732.59</td>\n",
       "      <td>cis</td>\n",
       "    </tr>\n",
       "    <tr>\n",
       "      <th>20982</th>\n",
       "      <td>01/07/2017</td>\n",
       "      <td>402</td>\n",
       "      <td>4131</td>\n",
       "      <td>type2</td>\n",
       "      <td>933</td>\n",
       "      <td>14JUL17:00:00:00</td>\n",
       "      <td>8.10</td>\n",
       "      <td>POS</td>\n",
       "      <td>1</td>\n",
       "      <td>249.17</td>\n",
       "      <td>cis</td>\n",
       "    </tr>\n",
       "    <tr>\n",
       "      <th>21031</th>\n",
       "      <td>01/07/2017</td>\n",
       "      <td>402</td>\n",
       "      <td>5812</td>\n",
       "      <td>type2</td>\n",
       "      <td>933</td>\n",
       "      <td>14JUL17:00:00:00</td>\n",
       "      <td>7.00</td>\n",
       "      <td>POS</td>\n",
       "      <td>1</td>\n",
       "      <td>215.33</td>\n",
       "      <td>cis</td>\n",
       "    </tr>\n",
       "    <tr>\n",
       "      <th>28609</th>\n",
       "      <td>01/02/2017</td>\n",
       "      <td>529</td>\n",
       "      <td>5812</td>\n",
       "      <td>type2</td>\n",
       "      <td>933</td>\n",
       "      <td>26FEB17:00:00:00</td>\n",
       "      <td>6.30</td>\n",
       "      <td>POS</td>\n",
       "      <td>1</td>\n",
       "      <td>193.80</td>\n",
       "      <td>cis</td>\n",
       "    </tr>\n",
       "    <tr>\n",
       "      <th>28777</th>\n",
       "      <td>01/08/2017</td>\n",
       "      <td>525</td>\n",
       "      <td>5813</td>\n",
       "      <td>type2</td>\n",
       "      <td>933</td>\n",
       "      <td>02AUG17:00:00:00</td>\n",
       "      <td>4.00</td>\n",
       "      <td>POS</td>\n",
       "      <td>1</td>\n",
       "      <td>123.05</td>\n",
       "      <td>cis</td>\n",
       "    </tr>\n",
       "  </tbody>\n",
       "</table>\n",
       "</div>"
      ],
      "text/plain": [
       "           PERIOD  cl_id   MCC channel_type  currency        TRDATETIME  \\\n",
       "13677  01/08/2017    285  5411        type2       933  06AUG17:00:00:00   \n",
       "20982  01/07/2017    402  4131        type2       933  14JUL17:00:00:00   \n",
       "21031  01/07/2017    402  5812        type2       933  14JUL17:00:00:00   \n",
       "28609  01/02/2017    529  5812        type2       933  26FEB17:00:00:00   \n",
       "28777  01/08/2017    525  5813        type2       933  02AUG17:00:00:00   \n",
       "\n",
       "       amount trx_category  target_flag  amount_rub curr_type  \n",
       "13677   88.83          POS            1     2732.59       cis  \n",
       "20982    8.10          POS            1      249.17       cis  \n",
       "21031    7.00          POS            1      215.33       cis  \n",
       "28609    6.30          POS            1      193.80       cis  \n",
       "28777    4.00          POS            1      123.05       cis  "
      ]
     },
     "execution_count": 15,
     "metadata": {},
     "output_type": "execute_result"
    }
   ],
   "source": [
    "raw_df[raw_df['currency'] == 933].head()"
   ]
  },
  {
   "cell_type": "markdown",
   "metadata": {},
   "source": [
    "Отлично, большую часть транзакций в иностранной валюте мы сконвертировали в рубли и записали в столбец amount_rub\n",
    "У нас есть поле PERIOD и TRDATETIME. Приведем их к стандарту datetime. Думаю из них можно будет достать несколько фич."
   ]
  },
  {
   "cell_type": "code",
   "execution_count": 16,
   "metadata": {},
   "outputs": [],
   "source": [
    "import datetime as dt"
   ]
  },
  {
   "cell_type": "code",
   "execution_count": 17,
   "metadata": {},
   "outputs": [],
   "source": [
    "#Стало понятно, что время точное время по многим операциям не проставлено. Уберем его.\n",
    "raw_df['TRDATETIME'] = raw_df.apply(lambda x: dt.datetime.strptime(x['TRDATETIME'], '%d%b%y:%H:%M:%S'), axis=1)"
   ]
  },
  {
   "cell_type": "code",
   "execution_count": 18,
   "metadata": {},
   "outputs": [],
   "source": [
    "raw_df['TRDATE'] = raw_df.apply(lambda x: dt.datetime.strftime(x['TRDATETIME'], '%d/%m/%Y'), axis=1)"
   ]
  },
  {
   "cell_type": "code",
   "execution_count": 19,
   "metadata": {},
   "outputs": [],
   "source": [
    "raw_df['PERIOD'] = raw_df.apply(lambda x: dt.datetime.strptime(x['PERIOD'], '%d/%m/%Y'), axis=1)"
   ]
  },
  {
   "cell_type": "code",
   "execution_count": 20,
   "metadata": {},
   "outputs": [],
   "source": [
    "raw_df['weekday'] = raw_df.apply(lambda x: dt.datetime.strftime(x['TRDATETIME'], '%a'), axis=1)"
   ]
  },
  {
   "cell_type": "code",
   "execution_count": 21,
   "metadata": {},
   "outputs": [
    {
     "data": {
      "text/html": [
       "<div>\n",
       "<style scoped>\n",
       "    .dataframe tbody tr th:only-of-type {\n",
       "        vertical-align: middle;\n",
       "    }\n",
       "\n",
       "    .dataframe tbody tr th {\n",
       "        vertical-align: top;\n",
       "    }\n",
       "\n",
       "    .dataframe thead th {\n",
       "        text-align: right;\n",
       "    }\n",
       "</style>\n",
       "<table border=\"1\" class=\"dataframe\">\n",
       "  <thead>\n",
       "    <tr style=\"text-align: right;\">\n",
       "      <th></th>\n",
       "      <th>PERIOD</th>\n",
       "      <th>cl_id</th>\n",
       "      <th>MCC</th>\n",
       "      <th>channel_type</th>\n",
       "      <th>currency</th>\n",
       "      <th>TRDATETIME</th>\n",
       "      <th>amount</th>\n",
       "      <th>trx_category</th>\n",
       "      <th>target_flag</th>\n",
       "      <th>amount_rub</th>\n",
       "      <th>curr_type</th>\n",
       "      <th>TRDATE</th>\n",
       "      <th>weekday</th>\n",
       "    </tr>\n",
       "  </thead>\n",
       "  <tbody>\n",
       "    <tr>\n",
       "      <th>490508</th>\n",
       "      <td>2017-04-01</td>\n",
       "      <td>10176</td>\n",
       "      <td>6011</td>\n",
       "      <td>type1</td>\n",
       "      <td>810</td>\n",
       "      <td>2017-04-24 14:05:26</td>\n",
       "      <td>600.00</td>\n",
       "      <td>WD_ATM_ROS</td>\n",
       "      <td>1</td>\n",
       "      <td>600.00</td>\n",
       "      <td>rub</td>\n",
       "      <td>24/04/2017</td>\n",
       "      <td>Mon</td>\n",
       "    </tr>\n",
       "    <tr>\n",
       "      <th>490509</th>\n",
       "      <td>2017-06-01</td>\n",
       "      <td>10171</td>\n",
       "      <td>5411</td>\n",
       "      <td>type1</td>\n",
       "      <td>810</td>\n",
       "      <td>2017-06-06 00:00:00</td>\n",
       "      <td>132.00</td>\n",
       "      <td>POS</td>\n",
       "      <td>0</td>\n",
       "      <td>132.00</td>\n",
       "      <td>rub</td>\n",
       "      <td>06/06/2017</td>\n",
       "      <td>Tue</td>\n",
       "    </tr>\n",
       "    <tr>\n",
       "      <th>490510</th>\n",
       "      <td>2017-02-01</td>\n",
       "      <td>10167</td>\n",
       "      <td>5541</td>\n",
       "      <td>type1</td>\n",
       "      <td>810</td>\n",
       "      <td>2017-02-03 00:00:00</td>\n",
       "      <td>1000.00</td>\n",
       "      <td>POS</td>\n",
       "      <td>1</td>\n",
       "      <td>1000.00</td>\n",
       "      <td>rub</td>\n",
       "      <td>03/02/2017</td>\n",
       "      <td>Fri</td>\n",
       "    </tr>\n",
       "    <tr>\n",
       "      <th>490511</th>\n",
       "      <td>2017-06-01</td>\n",
       "      <td>10163</td>\n",
       "      <td>5941</td>\n",
       "      <td>type1</td>\n",
       "      <td>810</td>\n",
       "      <td>2017-06-08 00:00:00</td>\n",
       "      <td>100.00</td>\n",
       "      <td>POS</td>\n",
       "      <td>0</td>\n",
       "      <td>100.00</td>\n",
       "      <td>rub</td>\n",
       "      <td>08/06/2017</td>\n",
       "      <td>Thu</td>\n",
       "    </tr>\n",
       "    <tr>\n",
       "      <th>490512</th>\n",
       "      <td>2017-06-01</td>\n",
       "      <td>10162</td>\n",
       "      <td>5411</td>\n",
       "      <td>type1</td>\n",
       "      <td>810</td>\n",
       "      <td>2017-06-15 00:00:00</td>\n",
       "      <td>441.33</td>\n",
       "      <td>POS</td>\n",
       "      <td>1</td>\n",
       "      <td>441.33</td>\n",
       "      <td>rub</td>\n",
       "      <td>15/06/2017</td>\n",
       "      <td>Thu</td>\n",
       "    </tr>\n",
       "  </tbody>\n",
       "</table>\n",
       "</div>"
      ],
      "text/plain": [
       "           PERIOD  cl_id   MCC channel_type  currency          TRDATETIME  \\\n",
       "490508 2017-04-01  10176  6011        type1       810 2017-04-24 14:05:26   \n",
       "490509 2017-06-01  10171  5411        type1       810 2017-06-06 00:00:00   \n",
       "490510 2017-02-01  10167  5541        type1       810 2017-02-03 00:00:00   \n",
       "490511 2017-06-01  10163  5941        type1       810 2017-06-08 00:00:00   \n",
       "490512 2017-06-01  10162  5411        type1       810 2017-06-15 00:00:00   \n",
       "\n",
       "         amount trx_category  target_flag  amount_rub curr_type      TRDATE  \\\n",
       "490508   600.00   WD_ATM_ROS            1      600.00       rub  24/04/2017   \n",
       "490509   132.00          POS            0      132.00       rub  06/06/2017   \n",
       "490510  1000.00          POS            1     1000.00       rub  03/02/2017   \n",
       "490511   100.00          POS            0      100.00       rub  08/06/2017   \n",
       "490512   441.33          POS            1      441.33       rub  15/06/2017   \n",
       "\n",
       "       weekday  \n",
       "490508     Mon  \n",
       "490509     Tue  \n",
       "490510     Fri  \n",
       "490511     Thu  \n",
       "490512     Thu  "
      ]
     },
     "execution_count": 21,
     "metadata": {},
     "output_type": "execute_result"
    }
   ],
   "source": [
    "raw_df.tail()"
   ]
  },
  {
   "cell_type": "code",
   "execution_count": 22,
   "metadata": {},
   "outputs": [
    {
     "data": {
      "text/plain": [
       "type1    299247\n",
       "type2    175013\n",
       "type5      5587\n",
       "type4      4476\n",
       "type3      3280\n",
       "NaN        2910\n",
       "Name: channel_type, dtype: int64"
      ]
     },
     "execution_count": 22,
     "metadata": {},
     "output_type": "execute_result"
    }
   ],
   "source": [
    "# заполним NaN в канале привлечения\n",
    "raw_df.channel_type.value_counts(dropna=False)"
   ]
  },
  {
   "cell_type": "code",
   "execution_count": 23,
   "metadata": {},
   "outputs": [],
   "source": [
    "raw_df.channel_type = raw_df.channel_type.fillna('Unknown')"
   ]
  },
  {
   "cell_type": "markdown",
   "metadata": {},
   "source": [
    "\n",
    "\n",
    "\n",
    "\n",
    "\n",
    "\n",
    "\n",
    "\n",
    "\n",
    "Снова обратимся к парсеру и вытянем данные по группам MCC"
   ]
  },
  {
   "cell_type": "code",
   "execution_count": 24,
   "metadata": {},
   "outputs": [],
   "source": [
    "reg_url = 'https://mcc-codes.ru/code'\n",
    "req = Request(url=reg_url, headers=headers)"
   ]
  },
  {
   "cell_type": "code",
   "execution_count": 25,
   "metadata": {},
   "outputs": [],
   "source": [
    "mcc_list = bs(urlopen(req).read())"
   ]
  },
  {
   "cell_type": "code",
   "execution_count": 26,
   "metadata": {},
   "outputs": [],
   "source": [
    "mcc_list = mcc_list.find_all('tr')[1:]"
   ]
  },
  {
   "cell_type": "code",
   "execution_count": 27,
   "metadata": {},
   "outputs": [
    {
     "data": {
      "text/plain": [
       "['Ветеринарные услуги', 'Контрактные услуги']"
      ]
     },
     "execution_count": 27,
     "metadata": {},
     "output_type": "execute_result"
    }
   ],
   "source": [
    "mcc_types = {}\n",
    "for i in range(len(mcc_list)):\n",
    "    mcc = mcc_list[i].text.split('\\n')\n",
    "    mcc_types[mcc[1]] = [mcc[2], mcc[3]]\n",
    "mcc_types['0742']"
   ]
  },
  {
   "cell_type": "code",
   "execution_count": 28,
   "metadata": {},
   "outputs": [
    {
     "name": "stdout",
     "output_type": "stream",
     "text": [
      "Ветеринарные услуги, Категория неизвестна, Unknown\n"
     ]
    }
   ],
   "source": [
    "def mcc_typer(mcc, group = 'name'):\n",
    "    g = 0\n",
    "    if group != 'name':\n",
    "        g=1\n",
    "    \n",
    "    if mcc not in mcc_types:\n",
    "        return 'Unknown'\n",
    "    else:\n",
    "        mcc_type = mcc_types[mcc][g]\n",
    "        if mcc_type == '':\n",
    "            return 'Unknown'\n",
    "        else:\n",
    "            return mcc_type\n",
    "print(mcc_typer('0742') + ', ' +  mcc_typer('9999')  + ', ' +  mcc_typer('9998'))"
   ]
  },
  {
   "cell_type": "code",
   "execution_count": 29,
   "metadata": {},
   "outputs": [],
   "source": [
    "raw_df['mcc_type'] = raw_df.apply(lambda x: mcc_typer(str(x['MCC'])), axis=1)\n",
    "raw_df['mcc_type_group'] = raw_df.apply(lambda x: mcc_typer(str(x['MCC']), 'group_name'), axis=1)"
   ]
  },
  {
   "cell_type": "code",
   "execution_count": 30,
   "metadata": {},
   "outputs": [
    {
     "data": {
      "text/html": [
       "<div>\n",
       "<style scoped>\n",
       "    .dataframe tbody tr th:only-of-type {\n",
       "        vertical-align: middle;\n",
       "    }\n",
       "\n",
       "    .dataframe tbody tr th {\n",
       "        vertical-align: top;\n",
       "    }\n",
       "\n",
       "    .dataframe thead th {\n",
       "        text-align: right;\n",
       "    }\n",
       "</style>\n",
       "<table border=\"1\" class=\"dataframe\">\n",
       "  <thead>\n",
       "    <tr style=\"text-align: right;\">\n",
       "      <th></th>\n",
       "      <th>cl_id</th>\n",
       "      <th>MCC</th>\n",
       "      <th>currency</th>\n",
       "      <th>amount</th>\n",
       "      <th>target_flag</th>\n",
       "      <th>amount_rub</th>\n",
       "    </tr>\n",
       "  </thead>\n",
       "  <tbody>\n",
       "    <tr>\n",
       "      <th>count</th>\n",
       "      <td>490513.000000</td>\n",
       "      <td>490513.000000</td>\n",
       "      <td>490513.000000</td>\n",
       "      <td>4.905130e+05</td>\n",
       "      <td>490513.000000</td>\n",
       "      <td>4.905130e+05</td>\n",
       "    </tr>\n",
       "    <tr>\n",
       "      <th>mean</th>\n",
       "      <td>4802.127361</td>\n",
       "      <td>5699.783822</td>\n",
       "      <td>810.601854</td>\n",
       "      <td>5.723594e+03</td>\n",
       "      <td>0.652588</td>\n",
       "      <td>5.842694e+03</td>\n",
       "    </tr>\n",
       "    <tr>\n",
       "      <th>std</th>\n",
       "      <td>2986.492835</td>\n",
       "      <td>662.933380</td>\n",
       "      <td>38.223123</td>\n",
       "      <td>7.703763e+04</td>\n",
       "      <td>0.476148</td>\n",
       "      <td>7.689458e+04</td>\n",
       "    </tr>\n",
       "    <tr>\n",
       "      <th>min</th>\n",
       "      <td>0.000000</td>\n",
       "      <td>742.000000</td>\n",
       "      <td>32.000000</td>\n",
       "      <td>4.000000e-02</td>\n",
       "      <td>0.000000</td>\n",
       "      <td>4.000000e-02</td>\n",
       "    </tr>\n",
       "    <tr>\n",
       "      <th>25%</th>\n",
       "      <td>2193.000000</td>\n",
       "      <td>5411.000000</td>\n",
       "      <td>810.000000</td>\n",
       "      <td>2.240000e+02</td>\n",
       "      <td>0.000000</td>\n",
       "      <td>2.420000e+02</td>\n",
       "    </tr>\n",
       "    <tr>\n",
       "      <th>50%</th>\n",
       "      <td>4576.000000</td>\n",
       "      <td>5661.000000</td>\n",
       "      <td>810.000000</td>\n",
       "      <td>6.240000e+02</td>\n",
       "      <td>1.000000</td>\n",
       "      <td>6.710000e+02</td>\n",
       "    </tr>\n",
       "    <tr>\n",
       "      <th>75%</th>\n",
       "      <td>7390.000000</td>\n",
       "      <td>5941.000000</td>\n",
       "      <td>810.000000</td>\n",
       "      <td>2.176000e+03</td>\n",
       "      <td>1.000000</td>\n",
       "      <td>2.330000e+03</td>\n",
       "    </tr>\n",
       "    <tr>\n",
       "      <th>max</th>\n",
       "      <td>10215.000000</td>\n",
       "      <td>9405.000000</td>\n",
       "      <td>986.000000</td>\n",
       "      <td>3.583500e+07</td>\n",
       "      <td>1.000000</td>\n",
       "      <td>3.583500e+07</td>\n",
       "    </tr>\n",
       "  </tbody>\n",
       "</table>\n",
       "</div>"
      ],
      "text/plain": [
       "               cl_id            MCC       currency        amount  \\\n",
       "count  490513.000000  490513.000000  490513.000000  4.905130e+05   \n",
       "mean     4802.127361    5699.783822     810.601854  5.723594e+03   \n",
       "std      2986.492835     662.933380      38.223123  7.703763e+04   \n",
       "min         0.000000     742.000000      32.000000  4.000000e-02   \n",
       "25%      2193.000000    5411.000000     810.000000  2.240000e+02   \n",
       "50%      4576.000000    5661.000000     810.000000  6.240000e+02   \n",
       "75%      7390.000000    5941.000000     810.000000  2.176000e+03   \n",
       "max     10215.000000    9405.000000     986.000000  3.583500e+07   \n",
       "\n",
       "         target_flag    amount_rub  \n",
       "count  490513.000000  4.905130e+05  \n",
       "mean        0.652588  5.842694e+03  \n",
       "std         0.476148  7.689458e+04  \n",
       "min         0.000000  4.000000e-02  \n",
       "25%         0.000000  2.420000e+02  \n",
       "50%         1.000000  6.710000e+02  \n",
       "75%         1.000000  2.330000e+03  \n",
       "max         1.000000  3.583500e+07  "
      ]
     },
     "execution_count": 30,
     "metadata": {},
     "output_type": "execute_result"
    }
   ],
   "source": [
    "raw_df.describe()"
   ]
  },
  {
   "cell_type": "code",
   "execution_count": 31,
   "metadata": {},
   "outputs": [
    {
     "data": {
      "text/html": [
       "<div>\n",
       "<style scoped>\n",
       "    .dataframe tbody tr th:only-of-type {\n",
       "        vertical-align: middle;\n",
       "    }\n",
       "\n",
       "    .dataframe tbody tr th {\n",
       "        vertical-align: top;\n",
       "    }\n",
       "\n",
       "    .dataframe thead th {\n",
       "        text-align: right;\n",
       "    }\n",
       "</style>\n",
       "<table border=\"1\" class=\"dataframe\">\n",
       "  <thead>\n",
       "    <tr style=\"text-align: right;\">\n",
       "      <th></th>\n",
       "      <th>PERIOD</th>\n",
       "      <th>cl_id</th>\n",
       "      <th>MCC</th>\n",
       "      <th>channel_type</th>\n",
       "      <th>currency</th>\n",
       "      <th>TRDATETIME</th>\n",
       "      <th>amount</th>\n",
       "      <th>trx_category</th>\n",
       "      <th>target_flag</th>\n",
       "      <th>amount_rub</th>\n",
       "      <th>curr_type</th>\n",
       "      <th>TRDATE</th>\n",
       "      <th>weekday</th>\n",
       "      <th>mcc_type</th>\n",
       "      <th>mcc_type_group</th>\n",
       "    </tr>\n",
       "  </thead>\n",
       "  <tbody>\n",
       "    <tr>\n",
       "      <th>0</th>\n",
       "      <td>2017-10-01</td>\n",
       "      <td>0</td>\n",
       "      <td>5200</td>\n",
       "      <td>Unknown</td>\n",
       "      <td>810</td>\n",
       "      <td>2017-10-21 00:00:00</td>\n",
       "      <td>5023.0</td>\n",
       "      <td>POS</td>\n",
       "      <td>0</td>\n",
       "      <td>5023.0</td>\n",
       "      <td>rub</td>\n",
       "      <td>21/10/2017</td>\n",
       "      <td>Sat</td>\n",
       "      <td>Товары для дома</td>\n",
       "      <td>Розничные магазины</td>\n",
       "    </tr>\n",
       "    <tr>\n",
       "      <th>1</th>\n",
       "      <td>2017-10-01</td>\n",
       "      <td>0</td>\n",
       "      <td>6011</td>\n",
       "      <td>Unknown</td>\n",
       "      <td>810</td>\n",
       "      <td>2017-10-12 12:24:07</td>\n",
       "      <td>20000.0</td>\n",
       "      <td>DEPOSIT</td>\n",
       "      <td>0</td>\n",
       "      <td>20000.0</td>\n",
       "      <td>rub</td>\n",
       "      <td>12/10/2017</td>\n",
       "      <td>Thu</td>\n",
       "      <td>Финансовые учреждения – снятие наличности авто...</td>\n",
       "      <td>Поставщик услуг</td>\n",
       "    </tr>\n",
       "    <tr>\n",
       "      <th>2</th>\n",
       "      <td>2017-12-01</td>\n",
       "      <td>0</td>\n",
       "      <td>5921</td>\n",
       "      <td>Unknown</td>\n",
       "      <td>810</td>\n",
       "      <td>2017-12-05 00:00:00</td>\n",
       "      <td>767.0</td>\n",
       "      <td>POS</td>\n",
       "      <td>0</td>\n",
       "      <td>767.0</td>\n",
       "      <td>rub</td>\n",
       "      <td>05/12/2017</td>\n",
       "      <td>Tue</td>\n",
       "      <td>Магазины с продажей спиртных напитков навынос</td>\n",
       "      <td>Различные магазины</td>\n",
       "    </tr>\n",
       "    <tr>\n",
       "      <th>3</th>\n",
       "      <td>2017-10-01</td>\n",
       "      <td>0</td>\n",
       "      <td>5411</td>\n",
       "      <td>Unknown</td>\n",
       "      <td>810</td>\n",
       "      <td>2017-10-21 00:00:00</td>\n",
       "      <td>2031.0</td>\n",
       "      <td>POS</td>\n",
       "      <td>0</td>\n",
       "      <td>2031.0</td>\n",
       "      <td>rub</td>\n",
       "      <td>21/10/2017</td>\n",
       "      <td>Sat</td>\n",
       "      <td>Бакалейные магазины, супермаркеты</td>\n",
       "      <td>Розничные магазины</td>\n",
       "    </tr>\n",
       "    <tr>\n",
       "      <th>4</th>\n",
       "      <td>2017-10-01</td>\n",
       "      <td>0</td>\n",
       "      <td>6012</td>\n",
       "      <td>Unknown</td>\n",
       "      <td>810</td>\n",
       "      <td>2017-10-24 13:14:24</td>\n",
       "      <td>36562.0</td>\n",
       "      <td>C2C_OUT</td>\n",
       "      <td>0</td>\n",
       "      <td>36562.0</td>\n",
       "      <td>rub</td>\n",
       "      <td>24/10/2017</td>\n",
       "      <td>Tue</td>\n",
       "      <td>Финансовые учреждения – торговля и услуги</td>\n",
       "      <td>Поставщик услуг</td>\n",
       "    </tr>\n",
       "    <tr>\n",
       "      <th>5</th>\n",
       "      <td>2017-10-01</td>\n",
       "      <td>1</td>\n",
       "      <td>5814</td>\n",
       "      <td>Unknown</td>\n",
       "      <td>810</td>\n",
       "      <td>2017-10-16 00:00:00</td>\n",
       "      <td>380.0</td>\n",
       "      <td>POS</td>\n",
       "      <td>0</td>\n",
       "      <td>380.0</td>\n",
       "      <td>rub</td>\n",
       "      <td>16/10/2017</td>\n",
       "      <td>Mon</td>\n",
       "      <td>Фастфуд</td>\n",
       "      <td>Различные магазины</td>\n",
       "    </tr>\n",
       "    <tr>\n",
       "      <th>6</th>\n",
       "      <td>2017-10-01</td>\n",
       "      <td>1</td>\n",
       "      <td>5814</td>\n",
       "      <td>Unknown</td>\n",
       "      <td>810</td>\n",
       "      <td>2017-10-10 00:00:00</td>\n",
       "      <td>378.0</td>\n",
       "      <td>POS</td>\n",
       "      <td>0</td>\n",
       "      <td>378.0</td>\n",
       "      <td>rub</td>\n",
       "      <td>10/10/2017</td>\n",
       "      <td>Tue</td>\n",
       "      <td>Фастфуд</td>\n",
       "      <td>Различные магазины</td>\n",
       "    </tr>\n",
       "    <tr>\n",
       "      <th>7</th>\n",
       "      <td>2017-10-01</td>\n",
       "      <td>1</td>\n",
       "      <td>5814</td>\n",
       "      <td>Unknown</td>\n",
       "      <td>810</td>\n",
       "      <td>2017-10-16 00:00:00</td>\n",
       "      <td>199.0</td>\n",
       "      <td>POS</td>\n",
       "      <td>0</td>\n",
       "      <td>199.0</td>\n",
       "      <td>rub</td>\n",
       "      <td>16/10/2017</td>\n",
       "      <td>Mon</td>\n",
       "      <td>Фастфуд</td>\n",
       "      <td>Различные магазины</td>\n",
       "    </tr>\n",
       "    <tr>\n",
       "      <th>8</th>\n",
       "      <td>2017-10-01</td>\n",
       "      <td>1</td>\n",
       "      <td>5814</td>\n",
       "      <td>Unknown</td>\n",
       "      <td>810</td>\n",
       "      <td>2017-10-11 00:00:00</td>\n",
       "      <td>400.0</td>\n",
       "      <td>POS</td>\n",
       "      <td>0</td>\n",
       "      <td>400.0</td>\n",
       "      <td>rub</td>\n",
       "      <td>11/10/2017</td>\n",
       "      <td>Wed</td>\n",
       "      <td>Фастфуд</td>\n",
       "      <td>Различные магазины</td>\n",
       "    </tr>\n",
       "    <tr>\n",
       "      <th>9</th>\n",
       "      <td>2017-07-01</td>\n",
       "      <td>1</td>\n",
       "      <td>5411</td>\n",
       "      <td>Unknown</td>\n",
       "      <td>810</td>\n",
       "      <td>2017-07-26 00:00:00</td>\n",
       "      <td>598.0</td>\n",
       "      <td>POS</td>\n",
       "      <td>0</td>\n",
       "      <td>598.0</td>\n",
       "      <td>rub</td>\n",
       "      <td>26/07/2017</td>\n",
       "      <td>Wed</td>\n",
       "      <td>Бакалейные магазины, супермаркеты</td>\n",
       "      <td>Розничные магазины</td>\n",
       "    </tr>\n",
       "  </tbody>\n",
       "</table>\n",
       "</div>"
      ],
      "text/plain": [
       "      PERIOD  cl_id   MCC channel_type  currency          TRDATETIME   amount  \\\n",
       "0 2017-10-01      0  5200      Unknown       810 2017-10-21 00:00:00   5023.0   \n",
       "1 2017-10-01      0  6011      Unknown       810 2017-10-12 12:24:07  20000.0   \n",
       "2 2017-12-01      0  5921      Unknown       810 2017-12-05 00:00:00    767.0   \n",
       "3 2017-10-01      0  5411      Unknown       810 2017-10-21 00:00:00   2031.0   \n",
       "4 2017-10-01      0  6012      Unknown       810 2017-10-24 13:14:24  36562.0   \n",
       "5 2017-10-01      1  5814      Unknown       810 2017-10-16 00:00:00    380.0   \n",
       "6 2017-10-01      1  5814      Unknown       810 2017-10-10 00:00:00    378.0   \n",
       "7 2017-10-01      1  5814      Unknown       810 2017-10-16 00:00:00    199.0   \n",
       "8 2017-10-01      1  5814      Unknown       810 2017-10-11 00:00:00    400.0   \n",
       "9 2017-07-01      1  5411      Unknown       810 2017-07-26 00:00:00    598.0   \n",
       "\n",
       "  trx_category  target_flag  amount_rub curr_type      TRDATE weekday  \\\n",
       "0          POS            0      5023.0       rub  21/10/2017     Sat   \n",
       "1      DEPOSIT            0     20000.0       rub  12/10/2017     Thu   \n",
       "2          POS            0       767.0       rub  05/12/2017     Tue   \n",
       "3          POS            0      2031.0       rub  21/10/2017     Sat   \n",
       "4      C2C_OUT            0     36562.0       rub  24/10/2017     Tue   \n",
       "5          POS            0       380.0       rub  16/10/2017     Mon   \n",
       "6          POS            0       378.0       rub  10/10/2017     Tue   \n",
       "7          POS            0       199.0       rub  16/10/2017     Mon   \n",
       "8          POS            0       400.0       rub  11/10/2017     Wed   \n",
       "9          POS            0       598.0       rub  26/07/2017     Wed   \n",
       "\n",
       "                                            mcc_type      mcc_type_group  \n",
       "0                                    Товары для дома  Розничные магазины  \n",
       "1  Финансовые учреждения – снятие наличности авто...     Поставщик услуг  \n",
       "2      Магазины с продажей спиртных напитков навынос  Различные магазины  \n",
       "3                  Бакалейные магазины, супермаркеты  Розничные магазины  \n",
       "4          Финансовые учреждения – торговля и услуги     Поставщик услуг  \n",
       "5                                            Фастфуд  Различные магазины  \n",
       "6                                            Фастфуд  Различные магазины  \n",
       "7                                            Фастфуд  Различные магазины  \n",
       "8                                            Фастфуд  Различные магазины  \n",
       "9                  Бакалейные магазины, супермаркеты  Розничные магазины  "
      ]
     },
     "execution_count": 31,
     "metadata": {},
     "output_type": "execute_result"
    }
   ],
   "source": [
    "raw_df.head(10)"
   ]
  },
  {
   "cell_type": "markdown",
   "metadata": {},
   "source": [
    "Думаю с предобработкой исходного датафрейма мы закончили.\n",
    "\n",
    "Изучим распределение признаков и попробуем визуализировать несколько взаимосвязей"
   ]
  },
  {
   "cell_type": "code",
   "execution_count": 32,
   "metadata": {},
   "outputs": [
    {
     "name": "stderr",
     "output_type": "stream",
     "text": [
      "/home/data/anaconda3/lib/python3.7/site-packages/scipy/stats/stats.py:1713: FutureWarning: Using a non-tuple sequence for multidimensional indexing is deprecated; use `arr[tuple(seq)]` instead of `arr[seq]`. In the future this will be interpreted as an array index, `arr[np.array(seq)]`, which will result either in an error or a different result.\n",
      "  return np.add.reduce(sorted[indexer] * weights, axis=axis) / sumval\n"
     ]
    },
    {
     "data": {
      "text/plain": [
       "<matplotlib.axes._subplots.AxesSubplot at 0x7f848f066390>"
      ]
     },
     "execution_count": 32,
     "metadata": {},
     "output_type": "execute_result"
    },
    {
     "data": {
      "image/png": "[encoded data removed]",
      "text/plain": [
       "<Figure size 432x288 with 1 Axes>"
      ]
     },
     "metadata": {
      "needs_background": "light"
     },
     "output_type": "display_data"
    }
   ],
   "source": [
    "sns.barplot(x='weekday', y='amount_rub', data=raw_df,\n",
    "            order=['Mon','Tue','Wed','Thu','Fri','Sat','Sun'], hue='target_flag')"
   ]
  },
  {
   "cell_type": "markdown",
   "metadata": {},
   "source": [
    "Интересно. Те, кто пользуется картой по будням, чаще остается клентом банка"
   ]
  },
  {
   "cell_type": "code",
   "execution_count": 33,
   "metadata": {},
   "outputs": [
    {
     "name": "stderr",
     "output_type": "stream",
     "text": [
      "/home/data/anaconda3/lib/python3.7/site-packages/scipy/stats/stats.py:1713: FutureWarning: Using a non-tuple sequence for multidimensional indexing is deprecated; use `arr[tuple(seq)]` instead of `arr[seq]`. In the future this will be interpreted as an array index, `arr[np.array(seq)]`, which will result either in an error or a different result.\n",
      "  return np.add.reduce(sorted[indexer] * weights, axis=axis) / sumval\n"
     ]
    },
    {
     "data": {
      "text/plain": [
       "<matplotlib.axes._subplots.AxesSubplot at 0x7f8484612b38>"
      ]
     },
     "execution_count": 33,
     "metadata": {},
     "output_type": "execute_result"
    },
    {
     "data": {
      "image/png": "[encoded data removed]",
      "text/plain": [
       "<Figure size 432x1080 with 1 Axes>"
      ]
     },
     "metadata": {
      "needs_background": "light"
     },
     "output_type": "display_data"
    }
   ],
   "source": [
    "f, ax = plt.subplots(figsize=(6, 15))\n",
    "sns.barplot(x='amount_rub', y='mcc_type_group', data=raw_df, hue='target_flag')"
   ]
  },
  {
   "cell_type": "markdown",
   "metadata": {},
   "source": [
    "Примечательно. Те, кто часто снимает номера в гостиницах, летает и арендует авто, чаще отказывается от карты. Судя по всему продукт - кобрендинговая кредитка с авиа-компаниями. Вступительным бонусом по которой было солидное количество миль."
   ]
  },
  {
   "cell_type": "code",
   "execution_count": 34,
   "metadata": {},
   "outputs": [],
   "source": [
    "vis_sample_1 = raw_df[raw_df['mcc_type_group'] == 'Поставщик услуг'].copy()"
   ]
  },
  {
   "cell_type": "code",
   "execution_count": 35,
   "metadata": {},
   "outputs": [
    {
     "name": "stderr",
     "output_type": "stream",
     "text": [
      "/home/data/anaconda3/lib/python3.7/site-packages/scipy/stats/stats.py:1713: FutureWarning: Using a non-tuple sequence for multidimensional indexing is deprecated; use `arr[tuple(seq)]` instead of `arr[seq]`. In the future this will be interpreted as an array index, `arr[np.array(seq)]`, which will result either in an error or a different result.\n",
      "  return np.add.reduce(sorted[indexer] * weights, axis=axis) / sumval\n"
     ]
    },
    {
     "data": {
      "text/plain": [
       "<matplotlib.axes._subplots.AxesSubplot at 0x7f848ee47ac8>"
      ]
     },
     "execution_count": 35,
     "metadata": {},
     "output_type": "execute_result"
    },
    {
     "data": {
      "image/png": "[encoded data removed]",
      "text/plain": [
       "<Figure size 432x1080 with 1 Axes>"
      ]
     },
     "metadata": {
      "needs_background": "light"
     },
     "output_type": "display_data"
    }
   ],
   "source": [
    "f, ax = plt.subplots(figsize=(6, 15))\n",
    "sns.barplot(x='amount_rub', y='mcc_type', data=vis_sample_1, hue='target_flag')"
   ]
  },
  {
   "cell_type": "markdown",
   "metadata": {},
   "source": [
    "Еще интереснее. Если принять гипотезу, о том, что мы имеем дело с кредтной картой, а также опираясь на мой банковский опыт, как в фронте так и в андеррайтинге, делаем пару новых гипотез:\n",
    "1. Клиент познакомился с КК, снял с нее деньги в банкомате/через кассу банка. В конце месяца ему пришел минимальный платеж и он был удивлен, что льготный период не распространяется на снятие налиячных. Конфликт - обида - расторжение договора.\n",
    "2. Клиен - мошенник. Снял наличные, ушел в просрочку, был продан коллекторам. Договор закрыт, клиент ушел. Интересно бы было посмотреть на уровень фрода по транзакциям на снятие наличных. Что-то мне подсказывает, что он велик."
   ]
  },
  {
   "cell_type": "code",
   "execution_count": 36,
   "metadata": {},
   "outputs": [
    {
     "name": "stderr",
     "output_type": "stream",
     "text": [
      "/home/data/anaconda3/lib/python3.7/site-packages/scipy/stats/stats.py:1713: FutureWarning: Using a non-tuple sequence for multidimensional indexing is deprecated; use `arr[tuple(seq)]` instead of `arr[seq]`. In the future this will be interpreted as an array index, `arr[np.array(seq)]`, which will result either in an error or a different result.\n",
      "  return np.add.reduce(sorted[indexer] * weights, axis=axis) / sumval\n"
     ]
    },
    {
     "data": {
      "text/plain": [
       "<matplotlib.axes._subplots.AxesSubplot at 0x7f848ee11f28>"
      ]
     },
     "execution_count": 36,
     "metadata": {},
     "output_type": "execute_result"
    },
    {
     "data": {
      "image/png": "[encoded data removed]",
      "text/plain": [
       "<Figure size 432x288 with 1 Axes>"
      ]
     },
     "metadata": {
      "needs_background": "light"
     },
     "output_type": "display_data"
    }
   ],
   "source": [
    "sns.barplot(x='amount_rub', y='trx_category', data=raw_df, hue='target_flag')"
   ]
  },
  {
   "cell_type": "markdown",
   "metadata": {},
   "source": [
    "Складывается впечатление, что останется клиент или нет зависит от умения клиента пользоваться продуктом банка. Посмотрите, как распределы размеры транзакций при снятии наличных в банкоматах банка."
   ]
  },
  {
   "cell_type": "code",
   "execution_count": 53,
   "metadata": {},
   "outputs": [
    {
     "name": "stderr",
     "output_type": "stream",
     "text": [
      "/home/data/anaconda3/lib/python3.7/site-packages/scipy/stats/stats.py:1713: FutureWarning: Using a non-tuple sequence for multidimensional indexing is deprecated; use `arr[tuple(seq)]` instead of `arr[seq]`. In the future this will be interpreted as an array index, `arr[np.array(seq)]`, which will result either in an error or a different result.\n",
      "  return np.add.reduce(sorted[indexer] * weights, axis=axis) / sumval\n"
     ]
    },
    {
     "data": {
      "text/plain": [
       "<matplotlib.axes._subplots.AxesSubplot at 0x7fa8893be630>"
      ]
     },
     "execution_count": 53,
     "metadata": {},
     "output_type": "execute_result"
    },
    {
     "data": {
      "image/png": "[encoded data removed]",
      "text/plain": [
       "<Figure size 720x720 with 1 Axes>"
      ]
     },
     "metadata": {
      "needs_background": "light"
     },
     "output_type": "display_data"
    }
   ],
   "source": [
    "sns.barplot(x='amount_rub', y='channel_type', data=raw_df, hue='target_flag')"
   ]
  },
  {
   "cell_type": "markdown",
   "metadata": {},
   "source": [
    "Третий и четвертый канал - лидеры по удержанию клиентов"
   ]
  },
  {
   "cell_type": "markdown",
   "metadata": {},
   "source": [
    "Начнем трансформировать данные для обучения модели."
   ]
  },
  {
   "cell_type": "markdown",
   "metadata": {},
   "source": [
    "Всего 5000 клиентов, случайным образом возьмем 1000 клиентов для тестирования"
   ]
  },
  {
   "cell_type": "code",
   "execution_count": 33,
   "metadata": {},
   "outputs": [],
   "source": [
    "cl_ids_test = np.random.choice(raw_df.cl_id.unique(), size=1000, replace=False)\n",
    "cl_ids_test_set = set(cl_ids_test)"
   ]
  },
  {
   "cell_type": "code",
   "execution_count": 34,
   "metadata": {},
   "outputs": [
    {
     "name": "stdout",
     "output_type": "stream",
     "text": [
      "Total transactions in train dataset:  393986\n",
      "Total transactions in test dataset:  96527\n"
     ]
    }
   ],
   "source": [
    "# create transactions dataset for train\n",
    "transactions_train = raw_df[~raw_df.cl_id.isin(cl_ids_test)].copy()\n",
    "print(\"Total transactions in train dataset: \", len(transactions_train))\n",
    "# create transactions dataset for test\n",
    "transactions_test = raw_df[raw_df.cl_id.isin(cl_ids_test)].copy()\n",
    "print(\"Total transactions in test dataset: \", len(transactions_test))"
   ]
  },
  {
   "cell_type": "markdown",
   "metadata": {},
   "source": [
    "Мы поделили все транзакции на train и test. Сперва соберем train."
   ]
  },
  {
   "cell_type": "code",
   "execution_count": 35,
   "metadata": {},
   "outputs": [],
   "source": [
    "def get_aggregated_df(df, agg_type, col_to_groupby):\n",
    "    agg_df = df[['cl_id', col_to_groupby, 'amount_rub']].groupby(['cl_id', col_to_groupby]).agg([agg_type])\n",
    "    agg_df = agg_df.unstack(fill_value=0)\n",
    "    agg_df.columns = agg_df.columns.get_level_values(2)\n",
    "\n",
    "    old_name = agg_df.columns.name\n",
    "    old_cols = agg_df.columns\n",
    "    new_cols = [old_name + '_' + agg_type + '_' + str(old_col) for old_col in old_cols]\n",
    "    agg_df.rename(\n",
    "        columns={old_col: new_col for old_col, new_col in zip(old_cols, new_cols)}, inplace=True\n",
    "    )\n",
    "    return agg_df"
   ]
  },
  {
   "cell_type": "code",
   "execution_count": 36,
   "metadata": {},
   "outputs": [],
   "source": [
    "df_train_mcc = pd.merge(\n",
    "    get_aggregated_df(transactions_train, agg_type='mean', col_to_groupby='MCC'),\n",
    "    get_aggregated_df(transactions_train, agg_type='sum', col_to_groupby='MCC'),\n",
    "    left_index=True,\n",
    "    right_index=True,\n",
    ")\n",
    "\n",
    "df_train_trx_category = pd.merge(\n",
    "    get_aggregated_df(transactions_train, agg_type='mean', col_to_groupby='trx_category'),\n",
    "    get_aggregated_df(transactions_train, agg_type='sum', col_to_groupby='trx_category'),\n",
    "    left_index=True,\n",
    "    right_index=True,\n",
    ")\n",
    "\n",
    "df_train_weekday = pd.merge(\n",
    "    get_aggregated_df(transactions_train, agg_type='mean', col_to_groupby='weekday'),\n",
    "    get_aggregated_df(transactions_train, agg_type='sum', col_to_groupby='weekday'),\n",
    "    left_index=True,\n",
    "    right_index=True,\n",
    ")\n",
    "\n",
    "df_train_curr = pd.merge(\n",
    "    get_aggregated_df(transactions_train, agg_type='mean', col_to_groupby='curr_type'),\n",
    "    get_aggregated_df(transactions_train, agg_type='sum', col_to_groupby='curr_type'),\n",
    "    left_index=True,\n",
    "    right_index=True,\n",
    ")\n",
    "\n",
    "df_train_channel= pd.merge(\n",
    "    get_aggregated_df(transactions_train, agg_type='mean', col_to_groupby='channel_type'),\n",
    "    get_aggregated_df(transactions_train, agg_type='sum', col_to_groupby='channel_type'),\n",
    "    left_index=True,\n",
    "    right_index=True,\n",
    ")\n",
    "\n",
    "df_train = pd.merge(\n",
    "    df_train_mcc,\n",
    "    df_train_trx_category,\n",
    "    left_index=True,\n",
    "    right_index=True,\n",
    ")\n",
    "\n",
    "df_train = pd.merge(\n",
    "    df_train,\n",
    "    df_train_weekday,\n",
    "    left_index=True,\n",
    "    right_index=True,\n",
    ")\n",
    "\n",
    "df_train = pd.merge(\n",
    "    df_train,\n",
    "    df_train_curr,\n",
    "    left_index=True,\n",
    "    right_index=True,\n",
    ")\n",
    "\n",
    "df_train = pd.merge(\n",
    "    df_train,\n",
    "    df_train_curr,\n",
    "    left_index=True,\n",
    "    right_index=True,\n",
    ")\n",
    "\n",
    "df_train = pd.merge(\n",
    "    df_train,\n",
    "    df_train_channel,\n",
    "    left_index=True,\n",
    "    right_index=True,\n",
    ")"
   ]
  },
  {
   "cell_type": "code",
   "execution_count": 37,
   "metadata": {},
   "outputs": [],
   "source": [
    "df_targets = raw_df[['cl_id', 'target_flag']].drop_duplicates().copy()\n",
    "df_targets.index = df_targets['cl_id']\n",
    "df_targets = df_targets.drop('cl_id', axis=1)"
   ]
  },
  {
   "cell_type": "code",
   "execution_count": 38,
   "metadata": {},
   "outputs": [],
   "source": [
    "df_train = pd.merge(\n",
    "    df_train,\n",
    "    df_targets,\n",
    "    left_index=True,\n",
    "    right_index=True,\n",
    "    how='inner'\n",
    ")"
   ]
  },
  {
   "cell_type": "code",
   "execution_count": 39,
   "metadata": {},
   "outputs": [
    {
     "data": {
      "text/html": [
       "<div>\n",
       "<style scoped>\n",
       "    .dataframe tbody tr th:only-of-type {\n",
       "        vertical-align: middle;\n",
       "    }\n",
       "\n",
       "    .dataframe tbody tr th {\n",
       "        vertical-align: top;\n",
       "    }\n",
       "\n",
       "    .dataframe thead th {\n",
       "        text-align: right;\n",
       "    }\n",
       "</style>\n",
       "<table border=\"1\" class=\"dataframe\">\n",
       "  <thead>\n",
       "    <tr style=\"text-align: right;\">\n",
       "      <th></th>\n",
       "      <th>MCC_mean_742</th>\n",
       "      <th>MCC_mean_763</th>\n",
       "      <th>MCC_mean_780</th>\n",
       "      <th>MCC_mean_1520</th>\n",
       "      <th>MCC_mean_1711</th>\n",
       "      <th>MCC_mean_1731</th>\n",
       "      <th>MCC_mean_1750</th>\n",
       "      <th>MCC_mean_1799</th>\n",
       "      <th>MCC_mean_2741</th>\n",
       "      <th>MCC_mean_2842</th>\n",
       "      <th>...</th>\n",
       "      <th>channel_type_mean_type3</th>\n",
       "      <th>channel_type_mean_type4</th>\n",
       "      <th>channel_type_mean_type5</th>\n",
       "      <th>channel_type_sum_Unknown</th>\n",
       "      <th>channel_type_sum_type1</th>\n",
       "      <th>channel_type_sum_type2</th>\n",
       "      <th>channel_type_sum_type3</th>\n",
       "      <th>channel_type_sum_type4</th>\n",
       "      <th>channel_type_sum_type5</th>\n",
       "      <th>target_flag</th>\n",
       "    </tr>\n",
       "    <tr>\n",
       "      <th>cl_id</th>\n",
       "      <th></th>\n",
       "      <th></th>\n",
       "      <th></th>\n",
       "      <th></th>\n",
       "      <th></th>\n",
       "      <th></th>\n",
       "      <th></th>\n",
       "      <th></th>\n",
       "      <th></th>\n",
       "      <th></th>\n",
       "      <th></th>\n",
       "      <th></th>\n",
       "      <th></th>\n",
       "      <th></th>\n",
       "      <th></th>\n",
       "      <th></th>\n",
       "      <th></th>\n",
       "      <th></th>\n",
       "      <th></th>\n",
       "      <th></th>\n",
       "      <th></th>\n",
       "    </tr>\n",
       "  </thead>\n",
       "  <tbody>\n",
       "    <tr>\n",
       "      <th>1</th>\n",
       "      <td>0.0</td>\n",
       "      <td>0.0</td>\n",
       "      <td>0.0</td>\n",
       "      <td>0.0</td>\n",
       "      <td>0.0</td>\n",
       "      <td>0.0</td>\n",
       "      <td>0.0</td>\n",
       "      <td>0.0</td>\n",
       "      <td>0.0</td>\n",
       "      <td>0.0</td>\n",
       "      <td>...</td>\n",
       "      <td>0.0</td>\n",
       "      <td>0.0</td>\n",
       "      <td>0.0</td>\n",
       "      <td>333281.91</td>\n",
       "      <td>0.0</td>\n",
       "      <td>0.0</td>\n",
       "      <td>0.0</td>\n",
       "      <td>0.0</td>\n",
       "      <td>0.0</td>\n",
       "      <td>0</td>\n",
       "    </tr>\n",
       "    <tr>\n",
       "      <th>5</th>\n",
       "      <td>0.0</td>\n",
       "      <td>0.0</td>\n",
       "      <td>0.0</td>\n",
       "      <td>0.0</td>\n",
       "      <td>0.0</td>\n",
       "      <td>0.0</td>\n",
       "      <td>0.0</td>\n",
       "      <td>0.0</td>\n",
       "      <td>0.0</td>\n",
       "      <td>0.0</td>\n",
       "      <td>...</td>\n",
       "      <td>0.0</td>\n",
       "      <td>0.0</td>\n",
       "      <td>0.0</td>\n",
       "      <td>550217.46</td>\n",
       "      <td>0.0</td>\n",
       "      <td>0.0</td>\n",
       "      <td>0.0</td>\n",
       "      <td>0.0</td>\n",
       "      <td>0.0</td>\n",
       "      <td>1</td>\n",
       "    </tr>\n",
       "    <tr>\n",
       "      <th>9</th>\n",
       "      <td>0.0</td>\n",
       "      <td>0.0</td>\n",
       "      <td>0.0</td>\n",
       "      <td>0.0</td>\n",
       "      <td>0.0</td>\n",
       "      <td>0.0</td>\n",
       "      <td>0.0</td>\n",
       "      <td>0.0</td>\n",
       "      <td>0.0</td>\n",
       "      <td>0.0</td>\n",
       "      <td>...</td>\n",
       "      <td>0.0</td>\n",
       "      <td>0.0</td>\n",
       "      <td>0.0</td>\n",
       "      <td>849315.09</td>\n",
       "      <td>0.0</td>\n",
       "      <td>0.0</td>\n",
       "      <td>0.0</td>\n",
       "      <td>0.0</td>\n",
       "      <td>0.0</td>\n",
       "      <td>0</td>\n",
       "    </tr>\n",
       "    <tr>\n",
       "      <th>10</th>\n",
       "      <td>0.0</td>\n",
       "      <td>0.0</td>\n",
       "      <td>0.0</td>\n",
       "      <td>0.0</td>\n",
       "      <td>0.0</td>\n",
       "      <td>0.0</td>\n",
       "      <td>0.0</td>\n",
       "      <td>0.0</td>\n",
       "      <td>0.0</td>\n",
       "      <td>0.0</td>\n",
       "      <td>...</td>\n",
       "      <td>0.0</td>\n",
       "      <td>0.0</td>\n",
       "      <td>0.0</td>\n",
       "      <td>1124343.99</td>\n",
       "      <td>0.0</td>\n",
       "      <td>0.0</td>\n",
       "      <td>0.0</td>\n",
       "      <td>0.0</td>\n",
       "      <td>0.0</td>\n",
       "      <td>0</td>\n",
       "    </tr>\n",
       "    <tr>\n",
       "      <th>11</th>\n",
       "      <td>0.0</td>\n",
       "      <td>0.0</td>\n",
       "      <td>0.0</td>\n",
       "      <td>0.0</td>\n",
       "      <td>0.0</td>\n",
       "      <td>0.0</td>\n",
       "      <td>0.0</td>\n",
       "      <td>0.0</td>\n",
       "      <td>0.0</td>\n",
       "      <td>0.0</td>\n",
       "      <td>...</td>\n",
       "      <td>0.0</td>\n",
       "      <td>0.0</td>\n",
       "      <td>0.0</td>\n",
       "      <td>434005.61</td>\n",
       "      <td>0.0</td>\n",
       "      <td>0.0</td>\n",
       "      <td>0.0</td>\n",
       "      <td>0.0</td>\n",
       "      <td>0.0</td>\n",
       "      <td>0</td>\n",
       "    </tr>\n",
       "  </tbody>\n",
       "</table>\n",
       "<p>5 rows × 735 columns</p>\n",
       "</div>"
      ],
      "text/plain": [
       "       MCC_mean_742  MCC_mean_763  MCC_mean_780  MCC_mean_1520  MCC_mean_1711  \\\n",
       "cl_id                                                                           \n",
       "1               0.0           0.0           0.0            0.0            0.0   \n",
       "5               0.0           0.0           0.0            0.0            0.0   \n",
       "9               0.0           0.0           0.0            0.0            0.0   \n",
       "10              0.0           0.0           0.0            0.0            0.0   \n",
       "11              0.0           0.0           0.0            0.0            0.0   \n",
       "\n",
       "       MCC_mean_1731  MCC_mean_1750  MCC_mean_1799  MCC_mean_2741  \\\n",
       "cl_id                                                               \n",
       "1                0.0            0.0            0.0            0.0   \n",
       "5                0.0            0.0            0.0            0.0   \n",
       "9                0.0            0.0            0.0            0.0   \n",
       "10               0.0            0.0            0.0            0.0   \n",
       "11               0.0            0.0            0.0            0.0   \n",
       "\n",
       "       MCC_mean_2842     ...       channel_type_mean_type3  \\\n",
       "cl_id                    ...                                 \n",
       "1                0.0     ...                           0.0   \n",
       "5                0.0     ...                           0.0   \n",
       "9                0.0     ...                           0.0   \n",
       "10               0.0     ...                           0.0   \n",
       "11               0.0     ...                           0.0   \n",
       "\n",
       "       channel_type_mean_type4  channel_type_mean_type5  \\\n",
       "cl_id                                                     \n",
       "1                          0.0                      0.0   \n",
       "5                          0.0                      0.0   \n",
       "9                          0.0                      0.0   \n",
       "10                         0.0                      0.0   \n",
       "11                         0.0                      0.0   \n",
       "\n",
       "       channel_type_sum_Unknown  channel_type_sum_type1  \\\n",
       "cl_id                                                     \n",
       "1                     333281.91                     0.0   \n",
       "5                     550217.46                     0.0   \n",
       "9                     849315.09                     0.0   \n",
       "10                   1124343.99                     0.0   \n",
       "11                    434005.61                     0.0   \n",
       "\n",
       "       channel_type_sum_type2  channel_type_sum_type3  channel_type_sum_type4  \\\n",
       "cl_id                                                                           \n",
       "1                         0.0                     0.0                     0.0   \n",
       "5                         0.0                     0.0                     0.0   \n",
       "9                         0.0                     0.0                     0.0   \n",
       "10                        0.0                     0.0                     0.0   \n",
       "11                        0.0                     0.0                     0.0   \n",
       "\n",
       "       channel_type_sum_type5  target_flag  \n",
       "cl_id                                       \n",
       "1                         0.0            0  \n",
       "5                         0.0            1  \n",
       "9                         0.0            0  \n",
       "10                        0.0            0  \n",
       "11                        0.0            0  \n",
       "\n",
       "[5 rows x 735 columns]"
      ]
     },
     "execution_count": 39,
     "metadata": {},
     "output_type": "execute_result"
    }
   ],
   "source": [
    "df_train.head()"
   ]
  },
  {
   "cell_type": "markdown",
   "metadata": {},
   "source": [
    "Теперь соберем test"
   ]
  },
  {
   "cell_type": "code",
   "execution_count": 40,
   "metadata": {},
   "outputs": [],
   "source": [
    "df_test_mcc = pd.merge(\n",
    "    get_aggregated_df(transactions_test, agg_type='mean', col_to_groupby='MCC'),\n",
    "    get_aggregated_df(transactions_test, agg_type='sum', col_to_groupby='MCC'),\n",
    "    left_index=True,\n",
    "    right_index=True,\n",
    ")\n",
    "\n",
    "df_test_trx_category = pd.merge(\n",
    "    get_aggregated_df(transactions_test, agg_type='mean', col_to_groupby='trx_category'),\n",
    "    get_aggregated_df(transactions_test, agg_type='sum', col_to_groupby='trx_category'),\n",
    "    left_index=True,\n",
    "    right_index=True,\n",
    ")\n",
    "\n",
    "df_test_weekday = pd.merge(\n",
    "    get_aggregated_df(transactions_test, agg_type='mean', col_to_groupby='weekday'),\n",
    "    get_aggregated_df(transactions_test, agg_type='sum', col_to_groupby='weekday'),\n",
    "    left_index=True,\n",
    "    right_index=True,\n",
    ")\n",
    "\n",
    "df_test_curr = pd.merge(\n",
    "    get_aggregated_df(transactions_test, agg_type='mean', col_to_groupby='curr_type'),\n",
    "    get_aggregated_df(transactions_test, agg_type='sum', col_to_groupby='curr_type'),\n",
    "    left_index=True,\n",
    "    right_index=True,\n",
    ")\n",
    "\n",
    "df_test_channel= pd.merge(\n",
    "    get_aggregated_df(transactions_test, agg_type='mean', col_to_groupby='channel_type'),\n",
    "    get_aggregated_df(transactions_test, agg_type='sum', col_to_groupby='channel_type'),\n",
    "    left_index=True,\n",
    "    right_index=True,\n",
    ")\n",
    "\n",
    "df_test = pd.merge(\n",
    "    df_test_mcc,\n",
    "    df_test_trx_category,\n",
    "    left_index=True,\n",
    "    right_index=True,\n",
    ")\n",
    "\n",
    "df_test = pd.merge(\n",
    "    df_test,\n",
    "    df_test_weekday,\n",
    "    left_index=True,\n",
    "    right_index=True,\n",
    ")\n",
    "\n",
    "df_test = pd.merge(\n",
    "    df_test,\n",
    "    df_test_curr,\n",
    "    left_index=True,\n",
    "    right_index=True,\n",
    ")\n",
    "\n",
    "df_test = pd.merge(\n",
    "    df_test,\n",
    "    df_test_curr,\n",
    "    left_index=True,\n",
    "    right_index=True,\n",
    ")\n",
    "\n",
    "df_test = pd.merge(\n",
    "    df_test,\n",
    "    df_test_channel,\n",
    "    left_index=True,\n",
    "    right_index=True,\n",
    ")"
   ]
  },
  {
   "cell_type": "code",
   "execution_count": 41,
   "metadata": {},
   "outputs": [],
   "source": [
    "df_test = pd.merge(\n",
    "    df_test,\n",
    "    df_targets,\n",
    "    left_index=True,\n",
    "    right_index=True,\n",
    "    how='inner'\n",
    ")"
   ]
  },
  {
   "cell_type": "code",
   "execution_count": 42,
   "metadata": {
    "scrolled": true
   },
   "outputs": [
    {
     "data": {
      "text/html": [
       "<div>\n",
       "<style scoped>\n",
       "    .dataframe tbody tr th:only-of-type {\n",
       "        vertical-align: middle;\n",
       "    }\n",
       "\n",
       "    .dataframe tbody tr th {\n",
       "        vertical-align: top;\n",
       "    }\n",
       "\n",
       "    .dataframe thead th {\n",
       "        text-align: right;\n",
       "    }\n",
       "</style>\n",
       "<table border=\"1\" class=\"dataframe\">\n",
       "  <thead>\n",
       "    <tr style=\"text-align: right;\">\n",
       "      <th></th>\n",
       "      <th>MCC_mean_742</th>\n",
       "      <th>MCC_mean_763</th>\n",
       "      <th>MCC_mean_780</th>\n",
       "      <th>MCC_mean_1711</th>\n",
       "      <th>MCC_mean_1731</th>\n",
       "      <th>MCC_mean_1750</th>\n",
       "      <th>MCC_mean_1799</th>\n",
       "      <th>MCC_mean_2842</th>\n",
       "      <th>MCC_mean_3000</th>\n",
       "      <th>MCC_mean_3001</th>\n",
       "      <th>...</th>\n",
       "      <th>channel_type_mean_type3</th>\n",
       "      <th>channel_type_mean_type4</th>\n",
       "      <th>channel_type_mean_type5</th>\n",
       "      <th>channel_type_sum_Unknown</th>\n",
       "      <th>channel_type_sum_type1</th>\n",
       "      <th>channel_type_sum_type2</th>\n",
       "      <th>channel_type_sum_type3</th>\n",
       "      <th>channel_type_sum_type4</th>\n",
       "      <th>channel_type_sum_type5</th>\n",
       "      <th>target_flag</th>\n",
       "    </tr>\n",
       "    <tr>\n",
       "      <th>cl_id</th>\n",
       "      <th></th>\n",
       "      <th></th>\n",
       "      <th></th>\n",
       "      <th></th>\n",
       "      <th></th>\n",
       "      <th></th>\n",
       "      <th></th>\n",
       "      <th></th>\n",
       "      <th></th>\n",
       "      <th></th>\n",
       "      <th></th>\n",
       "      <th></th>\n",
       "      <th></th>\n",
       "      <th></th>\n",
       "      <th></th>\n",
       "      <th></th>\n",
       "      <th></th>\n",
       "      <th></th>\n",
       "      <th></th>\n",
       "      <th></th>\n",
       "      <th></th>\n",
       "    </tr>\n",
       "  </thead>\n",
       "  <tbody>\n",
       "    <tr>\n",
       "      <th>0</th>\n",
       "      <td>0.0</td>\n",
       "      <td>0.0</td>\n",
       "      <td>0.0</td>\n",
       "      <td>0.0</td>\n",
       "      <td>0.0</td>\n",
       "      <td>0.0</td>\n",
       "      <td>0.0</td>\n",
       "      <td>0.0</td>\n",
       "      <td>0.0</td>\n",
       "      <td>0.0</td>\n",
       "      <td>...</td>\n",
       "      <td>0.0</td>\n",
       "      <td>0.0</td>\n",
       "      <td>0.0</td>\n",
       "      <td>64383.00</td>\n",
       "      <td>0.0</td>\n",
       "      <td>0.0</td>\n",
       "      <td>0.0</td>\n",
       "      <td>0.0</td>\n",
       "      <td>0.0</td>\n",
       "      <td>0</td>\n",
       "    </tr>\n",
       "    <tr>\n",
       "      <th>14</th>\n",
       "      <td>0.0</td>\n",
       "      <td>0.0</td>\n",
       "      <td>0.0</td>\n",
       "      <td>0.0</td>\n",
       "      <td>0.0</td>\n",
       "      <td>0.0</td>\n",
       "      <td>0.0</td>\n",
       "      <td>0.0</td>\n",
       "      <td>0.0</td>\n",
       "      <td>0.0</td>\n",
       "      <td>...</td>\n",
       "      <td>0.0</td>\n",
       "      <td>0.0</td>\n",
       "      <td>0.0</td>\n",
       "      <td>448690.17</td>\n",
       "      <td>0.0</td>\n",
       "      <td>0.0</td>\n",
       "      <td>0.0</td>\n",
       "      <td>0.0</td>\n",
       "      <td>0.0</td>\n",
       "      <td>1</td>\n",
       "    </tr>\n",
       "    <tr>\n",
       "      <th>29</th>\n",
       "      <td>0.0</td>\n",
       "      <td>0.0</td>\n",
       "      <td>0.0</td>\n",
       "      <td>0.0</td>\n",
       "      <td>0.0</td>\n",
       "      <td>0.0</td>\n",
       "      <td>0.0</td>\n",
       "      <td>0.0</td>\n",
       "      <td>0.0</td>\n",
       "      <td>0.0</td>\n",
       "      <td>...</td>\n",
       "      <td>0.0</td>\n",
       "      <td>0.0</td>\n",
       "      <td>0.0</td>\n",
       "      <td>334096.98</td>\n",
       "      <td>0.0</td>\n",
       "      <td>0.0</td>\n",
       "      <td>0.0</td>\n",
       "      <td>0.0</td>\n",
       "      <td>0.0</td>\n",
       "      <td>1</td>\n",
       "    </tr>\n",
       "    <tr>\n",
       "      <th>41</th>\n",
       "      <td>0.0</td>\n",
       "      <td>0.0</td>\n",
       "      <td>0.0</td>\n",
       "      <td>0.0</td>\n",
       "      <td>0.0</td>\n",
       "      <td>0.0</td>\n",
       "      <td>0.0</td>\n",
       "      <td>0.0</td>\n",
       "      <td>0.0</td>\n",
       "      <td>0.0</td>\n",
       "      <td>...</td>\n",
       "      <td>0.0</td>\n",
       "      <td>0.0</td>\n",
       "      <td>0.0</td>\n",
       "      <td>400812.05</td>\n",
       "      <td>0.0</td>\n",
       "      <td>0.0</td>\n",
       "      <td>0.0</td>\n",
       "      <td>0.0</td>\n",
       "      <td>0.0</td>\n",
       "      <td>1</td>\n",
       "    </tr>\n",
       "    <tr>\n",
       "      <th>42</th>\n",
       "      <td>0.0</td>\n",
       "      <td>0.0</td>\n",
       "      <td>0.0</td>\n",
       "      <td>0.0</td>\n",
       "      <td>0.0</td>\n",
       "      <td>0.0</td>\n",
       "      <td>0.0</td>\n",
       "      <td>0.0</td>\n",
       "      <td>0.0</td>\n",
       "      <td>0.0</td>\n",
       "      <td>...</td>\n",
       "      <td>0.0</td>\n",
       "      <td>0.0</td>\n",
       "      <td>0.0</td>\n",
       "      <td>677984.90</td>\n",
       "      <td>0.0</td>\n",
       "      <td>0.0</td>\n",
       "      <td>0.0</td>\n",
       "      <td>0.0</td>\n",
       "      <td>0.0</td>\n",
       "      <td>0</td>\n",
       "    </tr>\n",
       "  </tbody>\n",
       "</table>\n",
       "<p>5 rows × 573 columns</p>\n",
       "</div>"
      ],
      "text/plain": [
       "       MCC_mean_742  MCC_mean_763  MCC_mean_780  MCC_mean_1711  MCC_mean_1731  \\\n",
       "cl_id                                                                           \n",
       "0               0.0           0.0           0.0            0.0            0.0   \n",
       "14              0.0           0.0           0.0            0.0            0.0   \n",
       "29              0.0           0.0           0.0            0.0            0.0   \n",
       "41              0.0           0.0           0.0            0.0            0.0   \n",
       "42              0.0           0.0           0.0            0.0            0.0   \n",
       "\n",
       "       MCC_mean_1750  MCC_mean_1799  MCC_mean_2842  MCC_mean_3000  \\\n",
       "cl_id                                                               \n",
       "0                0.0            0.0            0.0            0.0   \n",
       "14               0.0            0.0            0.0            0.0   \n",
       "29               0.0            0.0            0.0            0.0   \n",
       "41               0.0            0.0            0.0            0.0   \n",
       "42               0.0            0.0            0.0            0.0   \n",
       "\n",
       "       MCC_mean_3001     ...       channel_type_mean_type3  \\\n",
       "cl_id                    ...                                 \n",
       "0                0.0     ...                           0.0   \n",
       "14               0.0     ...                           0.0   \n",
       "29               0.0     ...                           0.0   \n",
       "41               0.0     ...                           0.0   \n",
       "42               0.0     ...                           0.0   \n",
       "\n",
       "       channel_type_mean_type4  channel_type_mean_type5  \\\n",
       "cl_id                                                     \n",
       "0                          0.0                      0.0   \n",
       "14                         0.0                      0.0   \n",
       "29                         0.0                      0.0   \n",
       "41                         0.0                      0.0   \n",
       "42                         0.0                      0.0   \n",
       "\n",
       "       channel_type_sum_Unknown  channel_type_sum_type1  \\\n",
       "cl_id                                                     \n",
       "0                      64383.00                     0.0   \n",
       "14                    448690.17                     0.0   \n",
       "29                    334096.98                     0.0   \n",
       "41                    400812.05                     0.0   \n",
       "42                    677984.90                     0.0   \n",
       "\n",
       "       channel_type_sum_type2  channel_type_sum_type3  channel_type_sum_type4  \\\n",
       "cl_id                                                                           \n",
       "0                         0.0                     0.0                     0.0   \n",
       "14                        0.0                     0.0                     0.0   \n",
       "29                        0.0                     0.0                     0.0   \n",
       "41                        0.0                     0.0                     0.0   \n",
       "42                        0.0                     0.0                     0.0   \n",
       "\n",
       "       channel_type_sum_type5  target_flag  \n",
       "cl_id                                       \n",
       "0                         0.0            0  \n",
       "14                        0.0            1  \n",
       "29                        0.0            1  \n",
       "41                        0.0            1  \n",
       "42                        0.0            0  \n",
       "\n",
       "[5 rows x 573 columns]"
      ]
     },
     "execution_count": 42,
     "metadata": {},
     "output_type": "execute_result"
    }
   ],
   "source": [
    "df_test.head()"
   ]
  },
  {
   "cell_type": "code",
   "execution_count": 43,
   "metadata": {},
   "outputs": [],
   "source": [
    "from sklearn.linear_model import LogisticRegression"
   ]
  },
  {
   "cell_type": "markdown",
   "metadata": {},
   "source": [
    "Некоторые фичи из train отсутствуют в test - избавимся от них"
   ]
  },
  {
   "cell_type": "code",
   "execution_count": 54,
   "metadata": {},
   "outputs": [],
   "source": [
    "clf = LogisticRegression()\n",
    "X_train = df_train.drop(['target_flag'], axis=1)\n",
    "y_train = df_train['target_flag']\n",
    "X_test = df_test.drop(['target_flag'], axis=1)\n",
    "y_test = df_test['target_flag']"
   ]
  },
  {
   "cell_type": "code",
   "execution_count": 55,
   "metadata": {},
   "outputs": [],
   "source": [
    "c_train = X_train.columns\n",
    "c_test = X_test.columns\n",
    "\n",
    "for test in c_test:\n",
    "    if test not in c_train:\n",
    "        X_test = X_test.drop([test], axis=1)\n",
    "        \n",
    "for train in c_train:\n",
    "    if train not in c_test:\n",
    "        X_train = X_train.drop([train], axis=1)\n",
    "        "
   ]
  },
  {
   "cell_type": "code",
   "execution_count": 56,
   "metadata": {},
   "outputs": [
    {
     "data": {
      "text/plain": [
       "LogisticRegression(C=1.0, class_weight=None, dual=False, fit_intercept=True,\n",
       "          intercept_scaling=1, max_iter=100, multi_class='ovr', n_jobs=1,\n",
       "          penalty='l2', random_state=None, solver='liblinear', tol=0.0001,\n",
       "          verbose=0, warm_start=False)"
      ]
     },
     "execution_count": 56,
     "metadata": {},
     "output_type": "execute_result"
    }
   ],
   "source": [
    "clf.fit(X=X_train, y=y_train)"
   ]
  },
  {
   "cell_type": "code",
   "execution_count": 57,
   "metadata": {},
   "outputs": [],
   "source": [
    "from sklearn.metrics import roc_auc_score, roc_curve"
   ]
  },
  {
   "cell_type": "code",
   "execution_count": 58,
   "metadata": {},
   "outputs": [
    {
     "name": "stdout",
     "output_type": "stream",
     "text": [
      "Train:  0.8\n",
      "Test:  0.73\n"
     ]
    }
   ],
   "source": [
    "y_train_predict = clf.predict_proba(X_train)[:, 1]\n",
    "y_test_predict = clf.predict_proba(X_test)[:, 1]\n",
    "roc_auc_train = np.round(roc_auc_score(y_train, y_train_predict), 2)\n",
    "roc_auc_test = np.round(roc_auc_score(y_test, y_test_predict), 2)\n",
    "print(\"Train: \", roc_auc_train)\n",
    "print(\"Test: \", roc_auc_test)"
   ]
  },
  {
   "cell_type": "code",
   "execution_count": 59,
   "metadata": {},
   "outputs": [
    {
     "data": {
      "image/png": "[encoded data removed]",
      "text/plain": [
       "<Figure size 720x720 with 1 Axes>"
      ]
     },
     "metadata": {
      "needs_background": "light"
     },
     "output_type": "display_data"
    }
   ],
   "source": [
    "import matplotlib\n",
    "fpr_train, tpr_train, thresholds_train = roc_curve(y_train, y_train_predict)\n",
    "fpr_test, tpr_test, thresholds_test = roc_curve(y_test, y_test_predict)\n",
    "\n",
    "matplotlib.rcParams['figure.figsize'] = (10.0, 10.0)\n",
    "plt.plot(fpr_train, tpr_train, label='Train ROC AUC {0}'.format(roc_auc_train))\n",
    "plt.plot(fpr_test, tpr_test, label='Train ROC AUC {0}'.format(roc_auc_test))\n",
    "plt.plot([0, 1], [0, 1], '--', color=(0.6, 0.6, 0.6))\n",
    "plt.xlim([0, 1])\n",
    "plt.ylim([0, 1])\n",
    "plt.xlabel('False Positive Rate')\n",
    "plt.ylabel('True Positive Rate')\n",
    "plt.title('Logistic Regression Classifier', size=16)\n",
    "plt.legend(loc='lower right')\n",
    "plt.show()"
   ]
  },
  {
   "cell_type": "markdown",
   "metadata": {},
   "source": [
    "Попробовал воспользоваться xgboost'ом из урока. Получилось неплохо."
   ]
  },
  {
   "cell_type": "code",
   "execution_count": 50,
   "metadata": {},
   "outputs": [
    {
     "name": "stderr",
     "output_type": "stream",
     "text": [
      "/home/data/anaconda3/lib/python3.7/site-packages/sklearn/ensemble/weight_boosting.py:29: DeprecationWarning: numpy.core.umath_tests is an internal NumPy module and should not be imported. It will be removed in a future NumPy release.\n",
      "  from numpy.core.umath_tests import inner1d\n"
     ]
    }
   ],
   "source": [
    "import xgboost\n",
    "from sklearn.ensemble import RandomForestClassifier\n",
    "from sklearn.tree import DecisionTreeClassifier"
   ]
  },
  {
   "cell_type": "code",
   "execution_count": 51,
   "metadata": {},
   "outputs": [
    {
     "name": "stdout",
     "output_type": "stream",
     "text": [
      "Train:  0.93\n",
      "Test:  0.8\n"
     ]
    }
   ],
   "source": [
    "xgb = xgboost.XGBClassifier(max_depth=4, n_jobs=-1)\n",
    "xgb.fit(X_train, y_train)\n",
    "y_train_predict = xgb.predict_proba(X_train)[:, 1]\n",
    "y_test_predict = xgb.predict_proba(X_test)[:, 1]\n",
    "roc_auc_train = np.round(roc_auc_score(y_train, y_train_predict), 2)\n",
    "roc_auc_test = np.round(roc_auc_score(y_test, y_test_predict), 2)\n",
    "print(\"Train: \", roc_auc_train)\n",
    "print(\"Test: \", roc_auc_test)"
   ]
  },
  {
   "cell_type": "code",
   "execution_count": 52,
   "metadata": {},
   "outputs": [
    {
     "data": {
      "image/png": "[encoded data removed]",
      "text/plain": [
       "<Figure size 720x720 with 1 Axes>"
      ]
     },
     "metadata": {
      "needs_background": "light"
     },
     "output_type": "display_data"
    }
   ],
   "source": [
    "import matplotlib\n",
    "fpr_train, tpr_train, thresholds_train = roc_curve(y_train, y_train_predict)\n",
    "fpr_test, tpr_test, thresholds_test = roc_curve(y_test, y_test_predict)\n",
    "\n",
    "matplotlib.rcParams['figure.figsize'] = (10.0, 10.0)\n",
    "plt.plot(fpr_train, tpr_train, label='Train ROC AUC {0}'.format(roc_auc_train))\n",
    "plt.plot(fpr_test, tpr_test, label='Test ROC AUC {0}'.format(roc_auc_test))\n",
    "plt.plot([0, 1], [0, 1], '--', color=(0.6, 0.6, 0.6))\n",
    "plt.xlim([0, 1])\n",
    "plt.ylim([0, 1])\n",
    "plt.xlabel('False Positive Rate')\n",
    "plt.ylabel('True Positive Rate')\n",
    "plt.title('XGB Classifier', size=16)\n",
    "plt.legend(loc='lower right')\n",
    "plt.show()"
   ]
  }
 ],
 "metadata": {
  "kernelspec": {
   "display_name": "Python 3",
   "language": "python",
   "name": "python3"
  },
  "language_info": {
   "codemirror_mode": {
    "name": "ipython",
    "version": 3
   },
   "file_extension": ".py",
   "mimetype": "text/x-python",
   "name": "python",
   "nbconvert_exporter": "python",
   "pygments_lexer": "ipython3",
   "version": "3.7.0"
  }
 },
 "nbformat": 4,
 "nbformat_minor": 2
}
