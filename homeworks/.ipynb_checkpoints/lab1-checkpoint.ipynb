{
 "cells": [
  {
   "cell_type": "markdown",
   "metadata": {},
   "source": [
    "### Лабораторная работа по модулю “Python для анализа данных”"
   ]
  },
  {
   "cell_type": "markdown",
   "metadata": {},
   "source": [
    "### Списки и строки\n",
    "1.Дан произвольный список, содержащий только числа.Выведите результат сложения всех чисел больше 10."
   ]
  },
  {
   "cell_type": "code",
   "execution_count": 204,
   "metadata": {},
   "outputs": [],
   "source": [
    "# Генерим список\n",
    "from random import randint\n",
    "num_list = [randint(1, 21) for i in range(20)]"
   ]
  },
  {
   "cell_type": "code",
   "execution_count": 206,
   "metadata": {},
   "outputs": [
    {
     "name": "stdout",
     "output_type": "stream",
     "text": [
      "[10, 8, 18, 17, 9, 18, 2, 20, 4, 3, 12, 12, 5, 2, 1, 17, 21, 4, 4, 10]\n",
      "Суммма всех чисел больше 10 составляет 135\n"
     ]
    }
   ],
   "source": [
    "print(num_list)\n",
    "sum = 0\n",
    "for number in num_list:\n",
    "    if number > 10:\n",
    "        sum += number\n",
    "print('Суммма всех чисел больше 10 составляет {}'.format(sum))"
   ]
  },
  {
   "cell_type": "markdown",
   "metadata": {},
   "source": [
    "2.Пусть задан список, содержащий строки.Выведите все строки, заканчивающиеся буквой r."
   ]
  },
  {
   "cell_type": "code",
   "execution_count": 207,
   "metadata": {},
   "outputs": [],
   "source": [
    "# Генерим список\n",
    "def random_string():\n",
    "    from random import randint\n",
    "    letters = 'abcdefghijklmnopqrstuvwxyzABCDEFGHIJKLMNOPQRSTUVWXYZ'\n",
    "    random_string = ''\n",
    "    for i in range(randint(5, 25)):\n",
    "        random_string += letters[randint(0, len(letters)-1)]\n",
    "    return random_string\n",
    "str_list = [random_string() for i in range(100)]"
   ]
  },
  {
   "cell_type": "code",
   "execution_count": 208,
   "metadata": {},
   "outputs": [
    {
     "name": "stdout",
     "output_type": "stream",
     "text": [
      "jWkwR\n",
      "xJiZZnuvoVoYYuoYsvcoR\n",
      "NgjHSJRTiTufjpoMvqr\n",
      "vnxXr\n"
     ]
    }
   ],
   "source": [
    "for string in str_list:\n",
    "    if string[-1].lower() == 'r':\n",
    "        print(string)"
   ]
  },
  {
   "cell_type": "markdown",
   "metadata": {},
   "source": [
    "3.Сгенерируйте и выведитеcлучайнуюстроку размером 6 символов, содержащуютолько цифры. Строка должна содержать хотя бы однуцифру 3."
   ]
  },
  {
   "cell_type": "code",
   "execution_count": 209,
   "metadata": {},
   "outputs": [],
   "source": [
    "def random_string_with_three():\n",
    "    from random import randint\n",
    "    letters = '0123456789'\n",
    "    random_string = ''\n",
    "    for i in range(6):\n",
    "        random_string += letters[randint(0, len(letters)-1)]\n",
    "    if '3' in random_string:\n",
    "        return random_string\n",
    "    else:\n",
    "        return random_string_with_three()"
   ]
  },
  {
   "cell_type": "code",
   "execution_count": 210,
   "metadata": {},
   "outputs": [
    {
     "data": {
      "text/plain": [
       "'565839'"
      ]
     },
     "execution_count": 210,
     "metadata": {},
     "output_type": "execute_result"
    }
   ],
   "source": [
    "random_string_with_three()"
   ]
  },
  {
   "cell_type": "markdown",
   "metadata": {},
   "source": [
    "4.Пусть дана строка произвольной длины. Выведите информацию о том,сколько в ней символов и сколько слов."
   ]
  },
  {
   "cell_type": "code",
   "execution_count": 211,
   "metadata": {},
   "outputs": [],
   "source": [
    "def random_long_string(length):\n",
    "    from random import randint\n",
    "    letters = 'abcdefghijklmnopqrstuvwxyz ABCDEFGHIJKLMNOPQRSTUVWXYZ'\n",
    "    random_string = ''\n",
    "    for i in range(length):\n",
    "        random_string += letters[randint(0, len(letters)-1)]\n",
    "    return random_string"
   ]
  },
  {
   "cell_type": "code",
   "execution_count": 212,
   "metadata": {},
   "outputs": [],
   "source": [
    "# Пишем функцию, которая считает слова между пробелами и количество уникальных символов\n",
    "def word_counter(string):\n",
    "    symbol_list = []\n",
    "    for symbol in string:\n",
    "        if symbol not in symbol_list:\n",
    "            symbol_list.append(symbol)\n",
    "    return print('В строке: \\n- слов - {}\\n- уникальных символов - {}\\n- всего символов - {}'.format(len(string.split(' ')), len(symbol_list), len(string)))"
   ]
  },
  {
   "cell_type": "code",
   "execution_count": 213,
   "metadata": {},
   "outputs": [
    {
     "name": "stdout",
     "output_type": "stream",
     "text": [
      "Строка: isNNtgsXupzTnOmhSSZhFYCRdVnlhVRkGfMKJ tGsPHdy lj rPwrLEHYGTiRZonWTpVLUABOZXPYMtlOobdwJjWPbAwRRWhSuEY\n",
      "В строке: \n",
      "- слов - 4\n",
      "- уникальных символов - 44\n",
      "- всего символов - 100\n"
     ]
    }
   ],
   "source": [
    "long_string = random_long_string(100)\n",
    "print('Строка: ' + long_string)\n",
    "word_counter(long_string)"
   ]
  },
  {
   "cell_type": "markdown",
   "metadata": {},
   "source": [
    "### Матрицы\n",
    "1.Пусть дана матрица чисел размером NхN. Представьте данную матрицу ввиде списка. Выведите результат сложения всех элементов матрицы."
   ]
  },
  {
   "cell_type": "code",
   "execution_count": 214,
   "metadata": {},
   "outputs": [],
   "source": [
    "# Генератор матриц случайных матриц\n",
    "def matrix_generator(m, n):\n",
    "    from random import randint\n",
    "    matrix = [[randint(-100,100) for col in range(n)] for row in range(m)]\n",
    "    return matrix"
   ]
  },
  {
   "cell_type": "code",
   "execution_count": 216,
   "metadata": {},
   "outputs": [
    {
     "name": "stdout",
     "output_type": "stream",
     "text": [
      "Вот матрица:\n",
      "[[-30, 65, 64, 13, 75], [34, -15, -41, -83, -31], [-1, 38, -34, -86, -46], [-38, 65, -10, 29, -49], [74, 9, 24, 99, -35]]\n",
      "Вот строка из матрицы:\n",
      "[-30, 65, 64, 13, 75, 34, -15, -41, -83, -31, -1, 38, -34, -86, -46, -38, 65, -10, 29, -49, 74, 9, 24, 99, -35]\n",
      "Результат сложения всех элементов матрицы:\n",
      "90\n"
     ]
    }
   ],
   "source": [
    "# Генерируем матрицу NxN\n",
    "matrix = matrix_generator(5, 5)\n",
    "print('Вот матрица:')\n",
    "print(matrix)\n",
    "\n",
    "matrix_string = []\n",
    "for row in matrix:\n",
    "    matrix_string += (row)\n",
    "\n",
    "print('Вот строка из матрицы:')\n",
    "print(matrix_string)\n",
    "\n",
    "sum_matrix = 0\n",
    "for x in matrix_string:\n",
    "    sum_matrix += x\n",
    "    \n",
    "print('Результат сложения всех элементов матрицы:')\n",
    "print(sum_matrix)"
   ]
  },
  {
   "cell_type": "markdown",
   "metadata": {},
   "source": [
    "2.Пусть дана матрица чисел размером NхM. Найти столбец матрицы с максимальной суммой элементов"
   ]
  },
  {
   "cell_type": "code",
   "execution_count": 217,
   "metadata": {},
   "outputs": [
    {
     "data": {
      "text/plain": [
       "[[53, 34, 65, -47, 10], [85, 81, 26, -79, 85], [38, -35, 28, 6, 33]]"
      ]
     },
     "execution_count": 217,
     "metadata": {},
     "output_type": "execute_result"
    }
   ],
   "source": [
    "# Генерируем матрицу NxM\n",
    "matrix = matrix_generator(3, 5)\n",
    "matrix"
   ]
  },
  {
   "cell_type": "code",
   "execution_count": 218,
   "metadata": {},
   "outputs": [],
   "source": [
    "# Пишем функцию для транспонирования матриц\n",
    "def matrix_transpose(matrix):\n",
    "    matrix_t = []\n",
    "    matrix_string = []\n",
    "    \n",
    "    for row in matrix:\n",
    "        matrix_string += (row)\n",
    "    \n",
    "    for row in range(len(matrix[0])):\n",
    "        matrix_t_row = matrix_string[row::len(matrix[0])]\n",
    "        matrix_t.append(matrix_t_row)\n",
    "    \n",
    "    return matrix_t"
   ]
  },
  {
   "cell_type": "code",
   "execution_count": 219,
   "metadata": {},
   "outputs": [
    {
     "name": "stdout",
     "output_type": "stream",
     "text": [
      "Столбец матрицы с максимальной суммой элеменов:\n",
      "[53, 85, 38]\n"
     ]
    }
   ],
   "source": [
    "matrix_t = matrix_transpose(matrix)\n",
    "max_col = []\n",
    "max_col_sum = 0\n",
    "for col in matrix_t:\n",
    "    sum_col = 0\n",
    "    for i in col:\n",
    "        sum_col += i\n",
    "    if sum_col > max_col_sum:\n",
    "        max_col = col\n",
    "        max_col_sum = sum_col\n",
    "print('Столбец матрицы с максимальной суммой элеменов:')\n",
    "print(max_col)"
   ]
  },
  {
   "cell_type": "markdown",
   "metadata": {},
   "source": [
    "### Работа с динамичными структурами"
   ]
  },
  {
   "cell_type": "markdown",
   "metadata": {},
   "source": [
    "1.Пусть список студентов представлен в виде структуры [[No, ФИО, Возраст,Группа],[No, ФИО, Возраст, Группа],[No, ФИО, Возраст, Группа]]. Преобразуйте список в словарь вида: {No: [ФИО, Возраст, Группа], No:[....], No: [....]}"
   ]
  },
  {
   "cell_type": "code",
   "execution_count": 180,
   "metadata": {},
   "outputs": [
    {
     "data": {
      "text/plain": [
       "[[1, 'ФИО1', 15, 'Группа1'],\n",
       " [2, 'ФИО2', 16, 'Группа1'],\n",
       " [3, 'ФИО3', 18, 'Группа2']]"
      ]
     },
     "execution_count": 180,
     "metadata": {},
     "output_type": "execute_result"
    }
   ],
   "source": [
    "st_list = [[1, 'ФИО1', 15,'Группа1'],[2, 'ФИО2', 16, 'Группа1'],[3, 'ФИО3', 18, 'Группа2']]\n",
    "st_list"
   ]
  },
  {
   "cell_type": "code",
   "execution_count": 181,
   "metadata": {},
   "outputs": [
    {
     "data": {
      "text/plain": [
       "{1: ['ФИО1', 15, 'Группа1'],\n",
       " 2: ['ФИО2', 16, 'Группа1'],\n",
       " 3: ['ФИО3', 18, 'Группа2']}"
      ]
     },
     "execution_count": 181,
     "metadata": {},
     "output_type": "execute_result"
    }
   ],
   "source": [
    "students = {}\n",
    "for student in st_list:\n",
    "    students[student[0]] = student[1:]\n",
    "students"
   ]
  },
  {
   "cell_type": "markdown",
   "metadata": {},
   "source": [
    "2.Добавьте к задаче No6для словаря возможность (без преобразования словаря обратно в список) изменить группу студента. Поиск по «ФИО» («ФИО» студента и новый номер группы необходимо ввести с клавиатуры)."
   ]
  },
  {
   "cell_type": "code",
   "execution_count": 186,
   "metadata": {},
   "outputs": [],
   "source": [
    "def change_value(students, fio, col, new_value):\n",
    "    # Аргументы:\n",
    "    #    students - словарь для поиска и изменения\n",
    "    #    fio - поиск по ФИО в словаре\n",
    "    #    col - номер стобца для внесения нового признака, начиная с 1го\n",
    "    #    new_value - новое значение признака col    \n",
    "    st_key = ''\n",
    "    st_values = []\n",
    "    for key, value in students.items():\n",
    "        if fio == value[0]:\n",
    "            st_key = key\n",
    "            st_values = value\n",
    "    \n",
    "    if st_key == '':\n",
    "        return 'Студент не найден'\n",
    "    else:\n",
    "        print('Старые данные студента ' + fio + ':')\n",
    "        students.pop(st_key)\n",
    "        print(st_values)\n",
    "        st_values[col-1] = new_value\n",
    "        print('Новые данные студента ' + fio + ':')\n",
    "        students[st_key] = st_values\n",
    "        print(students[st_key])"
   ]
  },
  {
   "cell_type": "code",
   "execution_count": 187,
   "metadata": {},
   "outputs": [
    {
     "name": "stdout",
     "output_type": "stream",
     "text": [
      "Укажите ФИО: ФИО3\n",
      "Укажите номер столбца для изменения (1,2...): 3\n",
      "Укажите новое значение столбца: Группа4\n",
      "Старые данные студента ФИО3:\n",
      "['ФИО3', '31', 'Группа1']\n",
      "Новые данные студента ФИО3:\n",
      "['ФИО3', '31', 'Группа4']\n"
     ]
    }
   ],
   "source": [
    "change_value(students, str(input('Укажите ФИО: ')),int(input('Укажите номер столбца для изменения (1,2...): ')), str(input('Укажите новое значение столбца: ')))"
   ]
  },
  {
   "cell_type": "markdown",
   "metadata": {},
   "source": [
    "3.Добавьте к задаче No6для словаря возможность (без преобразования словаря обратно в список) изменить возраст студента."
   ]
  },
  {
   "cell_type": "code",
   "execution_count": 188,
   "metadata": {},
   "outputs": [
    {
     "name": "stdout",
     "output_type": "stream",
     "text": [
      "Укажите ФИО: ФИО3\n",
      "Укажите номер столбца для изменения (1,2...): 2\n",
      "Укажите новое значение столбца: 18\n",
      "Старые данные студента ФИО3:\n",
      "['ФИО3', '31', 'Группа4']\n",
      "Новые данные студента ФИО3:\n",
      "['ФИО3', '18', 'Группа4']\n"
     ]
    }
   ],
   "source": [
    "change_value(students, str(input('Укажите ФИО: ')),int(input('Укажите номер столбца для изменения (1,2...): ')), str(input('Укажите новое значение столбца: ')))"
   ]
  }
 ],
 "metadata": {
  "kernelspec": {
   "display_name": "Python 3",
   "language": "python",
   "name": "python3"
  },
  "language_info": {
   "codemirror_mode": {
    "name": "ipython",
    "version": 3
   },
   "file_extension": ".py",
   "mimetype": "text/x-python",
   "name": "python",
   "nbconvert_exporter": "python",
   "pygments_lexer": "ipython3",
   "version": "3.7.0"
  }
 },
 "nbformat": 4,
 "nbformat_minor": 2
}
