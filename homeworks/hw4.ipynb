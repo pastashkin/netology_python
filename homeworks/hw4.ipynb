{
 "cells": [
  {
   "cell_type": "markdown",
   "metadata": {},
   "source": [
    "### Задание 1\n",
    "Напишите функцию date_range, которая возвращает список дней между датами start_date и end_date. Даты должны вводиться в формате YYYY-MM-DD."
   ]
  },
  {
   "cell_type": "code",
   "execution_count": 3,
   "metadata": {},
   "outputs": [],
   "source": [
    "start_date = '2018-05-28'\n",
    "end_date = '2018-06-03'"
   ]
  },
  {
   "cell_type": "code",
   "execution_count": 4,
   "metadata": {},
   "outputs": [],
   "source": [
    "# Немного увлекся и выполнил проверки из второго задания. Решил оставить. Во втором задании сделаю как надо\n",
    "def date_range(start_date, end_date):\n",
    "    from datetime import datetime\n",
    "    from datetime import timedelta\n",
    "    \n",
    "    start_date, end_date = [datetime.strptime(start_date, '%Y-%m-%d'), datetime.strptime(end_date, '%Y-%m-%d')]\n",
    "    # Добавляем проверки на обратный порядок дат и одинаковые даты\n",
    "    if start_date == end_date:\n",
    "        # raise IOError('start_date и end_date должны отличаться')\n",
    "        return []\n",
    "    # Переменная iterator указывает на порядок перебора дат\n",
    "    if start_date > end_date:\n",
    "        iterator = -1\n",
    "    else:\n",
    "        iterator = 1\n",
    "    \n",
    "    # Добавляем/отнимаем один день, чтобы не включать start_date в список\n",
    "    list_date = start_date + timedelta(days = 1 * iterator)\n",
    "    dates = []\n",
    "    while list_date != end_date:\n",
    "        dates.append(datetime.strftime(list_date, '%Y-%m-%d'))\n",
    "        list_date +=  timedelta(days = 1 * iterator)\n",
    "    return dates"
   ]
  },
  {
   "cell_type": "code",
   "execution_count": 5,
   "metadata": {},
   "outputs": [
    {
     "name": "stdout",
     "output_type": "stream",
     "text": [
      "start_date: \t2018-05-28\n",
      "end_date: \t2018-06-03\n",
      "\n",
      "date_range(start_date, end_date): \n",
      "['2018-05-29', '2018-05-30', '2018-05-31', '2018-06-01', '2018-06-02']\n",
      "\n",
      "date_range(end_date, start_date): \n",
      "['2018-06-02', '2018-06-01', '2018-05-31', '2018-05-30', '2018-05-29']\n",
      "\n",
      "date_range(start_date, start_date): \n",
      "[]\n"
     ]
    }
   ],
   "source": [
    "print('start_date: ' + '\\t' + start_date + '\\n' + 'end_date: ' + '\\t' + end_date + '\\n' +\n",
    "      '\\n' + 'date_range(start_date, end_date): ' + '\\n' + str(date_range(start_date, end_date)) + '\\n' +\n",
    "      '\\n' + 'date_range(end_date, start_date): ' + '\\n' + str(date_range(end_date, start_date)) + '\\n' +\n",
    "      '\\n' + 'date_range(start_date, start_date): ' + '\\n' + str(date_range(start_date, start_date)))"
   ]
  },
  {
   "cell_type": "markdown",
   "metadata": {},
   "source": [
    "### Задание 2\n",
    "Дополните функцию из первого задания проверкой на корректность дат. В случае неверного формата или если start_date > end_date должен возвращаться пустой список."
   ]
  },
  {
   "cell_type": "code",
   "execution_count": 6,
   "metadata": {},
   "outputs": [],
   "source": [
    "# Сделал как сказано в задании\n",
    "def date_range(start_date, end_date):\n",
    "    from datetime import datetime\n",
    "    from datetime import timedelta\n",
    "    \n",
    "    try:\n",
    "        start_date, end_date = [datetime.strptime(start_date, '%Y-%m-%d'), datetime.strptime(end_date, '%Y-%m-%d')]\n",
    "    except:\n",
    "        return []\n",
    "    if start_date == end_date or start_date > end_date:\n",
    "        return []\n",
    "        \n",
    "    # Добавляем один день, чтобы не включать start_date в список\n",
    "    list_date = start_date + timedelta(days = 1)\n",
    "    dates = []\n",
    "    while list_date != end_date:\n",
    "        dates.append(datetime.strftime(list_date, '%Y-%m-%d'))\n",
    "        list_date +=  timedelta(days = 1)\n",
    "    return dates"
   ]
  },
  {
   "cell_type": "code",
   "execution_count": 7,
   "metadata": {},
   "outputs": [
    {
     "name": "stdout",
     "output_type": "stream",
     "text": [
      "start_date: \t2018-05-28\n",
      "end_date: \t2018-06-03\n",
      "\n",
      "date_range(start_date, end_date): \n",
      "['2018-05-29', '2018-05-30', '2018-05-31', '2018-06-01', '2018-06-02']\n",
      "\n",
      "date_range(end_date, start_date): \n",
      "[]\n",
      "\n",
      "date_range(start_date, start_date): \n",
      "[]\n",
      "\n",
      "date_range(\"20180528\", \"20180603\"): \n",
      "[]\n"
     ]
    }
   ],
   "source": [
    "print('start_date: ' + '\\t' + start_date + '\\n' + 'end_date: ' + '\\t' + end_date + '\\n' +\n",
    "      '\\n' + 'date_range(start_date, end_date): ' + '\\n' + str(date_range(start_date, end_date)) + '\\n' +\n",
    "      '\\n' + 'date_range(end_date, start_date): ' + '\\n' + str(date_range(end_date, start_date)) + '\\n' +\n",
    "      '\\n' + 'date_range(start_date, start_date): ' + '\\n' + str(date_range(start_date, start_date)) + '\\n' +\n",
    "      '\\n' + 'date_range(\"20180528\", \"20180603\"): ' + '\\n' + str(date_range('20180528', '20180603')))"
   ]
  },
  {
   "cell_type": "markdown",
   "metadata": {},
   "source": [
    "### Задание 3\n",
    "Дан поток дат в формате YYYY-MM-DD, в которых встречаются некорректные значения.\n",
    "Напишите функцию, которая проверяет эти даты на корректность. Т. е. для каждой даты возвращает True (дата корректна) или False (некорректная дата). "
   ]
  },
  {
   "cell_type": "code",
   "execution_count": 8,
   "metadata": {},
   "outputs": [],
   "source": [
    "stream = ['2018-04-02', '2018-02-29', '2018-19-02']"
   ]
  },
  {
   "cell_type": "code",
   "execution_count": 9,
   "metadata": {},
   "outputs": [],
   "source": [
    "def correct_dates(list):\n",
    "    from datetime import datetime\n",
    "    correct_list = []\n",
    "    for date in list:\n",
    "        try:\n",
    "            datetime.strptime(date, '%Y-%m-%d')\n",
    "            correct_list.append(True)\n",
    "            continue\n",
    "        except:\n",
    "            correct_list.append(False)\n",
    "            continue\n",
    "    return correct_list            "
   ]
  },
  {
   "cell_type": "code",
   "execution_count": 10,
   "metadata": {},
   "outputs": [
    {
     "data": {
      "text/plain": [
       "[True, False, False]"
      ]
     },
     "execution_count": 10,
     "metadata": {},
     "output_type": "execute_result"
    }
   ],
   "source": [
    "correct_dates(stream)"
   ]
  },
  {
   "cell_type": "markdown",
   "metadata": {},
   "source": [
    "### Задание 4\n",
    "Напишите функцию, которая возвращает список дат с 1 по вчерашний день текущего месяца. Если дан 1 день месяца, то возвращается список дней прошлого месяца."
   ]
  },
  {
   "cell_type": "code",
   "execution_count": 11,
   "metadata": {},
   "outputs": [],
   "source": [
    "def previous_dates(date):\n",
    "    from datetime import datetime\n",
    "    from datetime import timedelta\n",
    "    \n",
    "    lists = []\n",
    "    date = datetime.strptime(date, '%Y-%m-%d')\n",
    "    if date.day == 1:\n",
    "        this_date = datetime(date.year, date.month - 1, 1, 0, 0)\n",
    "    else:\n",
    "        this_date = datetime(date.year, date.month, 1, 0, 0)\n",
    "    while this_date != date:\n",
    "        lists.append(datetime.strftime(this_date, '%Y-%m-%d'))\n",
    "        this_date += timedelta(days = 1)\n",
    "    return lists"
   ]
  },
  {
   "cell_type": "code",
   "execution_count": 12,
   "metadata": {},
   "outputs": [
    {
     "name": "stdout",
     "output_type": "stream",
     "text": [
      "previous_dates(\"2018-05-05\"): \n",
      "['2018-05-01', '2018-05-02', '2018-05-03', '2018-05-04']\n",
      "\n",
      "previous_dates(\"2018-05-01\"): \n",
      "['2018-04-01', '2018-04-02', '2018-04-03', '2018-04-04', '2018-04-05', '2018-04-06', '2018-04-07', '2018-04-08', '2018-04-09', '2018-04-10', '2018-04-11', '2018-04-12', '2018-04-13', '2018-04-14', '2018-04-15', '2018-04-16', '2018-04-17', '2018-04-18', '2018-04-19', '2018-04-20', '2018-04-21', '2018-04-22', '2018-04-23', '2018-04-24', '2018-04-25', '2018-04-26', '2018-04-27', '2018-04-28', '2018-04-29', '2018-04-30']\n"
     ]
    }
   ],
   "source": [
    "print('previous_dates(\"2018-05-05\"): ' + '\\n' + str(previous_dates(\"2018-05-05\")) + '\\n' + '\\n' \n",
    "      'previous_dates(\"2018-05-01\"): ' + '\\n' + str(previous_dates(\"2018-05-01\")))"
   ]
  },
  {
   "cell_type": "markdown",
   "metadata": {},
   "source": [
    "### Задание 5\n",
    "Напишите функцию, которая возвращает точную дату в формате YYYY-MM-DD по фразе:\n",
    "1. 'today' - сегодняшнюю дату\n",
    "2. 'last monday' -  прошлый понедельник\n",
    "3. 'last day' - Последний день текущего месяца"
   ]
  },
  {
   "cell_type": "code",
   "execution_count": 13,
   "metadata": {},
   "outputs": [],
   "source": [
    "def date_request(command):\n",
    "    from datetime import datetime\n",
    "    from datetime import timedelta\n",
    "    \n",
    "    date = datetime.now()\n",
    "    \n",
    "    if command == 'today':\n",
    "        return datetime.strftime(date, '%Y-%m-%d')\n",
    "    \n",
    "    if command == 'last monday':\n",
    "        last_monday = date\n",
    "        while datetime.weekday(last_monday) != 0:\n",
    "            last_monday -= timedelta(days = 1)\n",
    "        date = last_monday\n",
    "        return datetime.strftime(date, '%Y-%m-%d')\n",
    "    \n",
    "    if command == 'last day':\n",
    "        last_day = date\n",
    "        while date.month == last_day.month:\n",
    "            last_day += timedelta(days = 1)\n",
    "        date = last_day - timedelta(days = 1)\n",
    "        return datetime.strftime(date, '%Y-%m-%d')\n",
    "    \n",
    "    return 'Wrong command'"
   ]
  },
  {
   "cell_type": "code",
   "execution_count": 14,
   "metadata": {},
   "outputs": [
    {
     "name": "stdout",
     "output_type": "stream",
     "text": [
      "date_request(\"today\"): \n",
      "2018-12-10\n",
      "\n",
      "date_request(\"last day\"): \n",
      "2018-12-31\n",
      "\n",
      "date_request(\"last monday\"): \n",
      "2018-12-10\n",
      "\n",
      "date_request(\"last year\"): \n",
      "Wrong command\n"
     ]
    }
   ],
   "source": [
    "print('date_request(\"today\"): ' + '\\n' + date_request('today') + '\\n' + '\\n' \n",
    "      'date_request(\"last day\"): ' + '\\n' + date_request('last day') + '\\n' + '\\n' \n",
    "      'date_request(\"last monday\"): ' + '\\n' + date_request('last monday') + '\\n' + '\\n'\n",
    "      'date_request(\"last year\"): ' + '\\n' + date_request('last year'))"
   ]
  },
  {
   "cell_type": "markdown",
   "metadata": {},
   "source": [
    "### Задание 6\n",
    "Напишите функцию, которая разбивает на недели с понедельника по воскресенье интервал дат между start_date и end_date. Считайте, что входные данные всегда корректны. В ответ должны входить только полные недели."
   ]
  },
  {
   "cell_type": "code",
   "execution_count": 15,
   "metadata": {},
   "outputs": [],
   "source": [
    "start_date = '2018-11-22'\n",
    "end_date = '2018-12-10'"
   ]
  },
  {
   "cell_type": "code",
   "execution_count": 16,
   "metadata": {},
   "outputs": [],
   "source": [
    "def weeks_separator(start_date, end_date):\n",
    "    from datetime import datetime\n",
    "    from datetime import timedelta\n",
    "    from copy import copy\n",
    "    start_date, end_date = [datetime.strptime(start_date, '%Y-%m-%d'), datetime.strptime(end_date, '%Y-%m-%d')]\n",
    "    current_date = start_date\n",
    "    weeks = []\n",
    "    days = []\n",
    "    # Бежим по датам\n",
    "    while current_date != end_date:\n",
    "        # Если сегодня воскресенье, нужно отделить неделю\n",
    "        if current_date.weekday() == 6:\n",
    "            days.append(datetime.strftime(current_date, '%Y-%m-%d'))\n",
    "            # Отделяем только если неделя полная, иначе чистим список с днями и идем дальше\n",
    "            if len(days) == 7:\n",
    "                weeks.append(copy(days))\n",
    "            days.clear()\n",
    "            current_date += timedelta(days = 1)\n",
    "            continue\n",
    "        # Если сегодня не воскресенье добавляем день в список days и идем дальше\n",
    "        days.append(datetime.strftime(current_date, '%Y-%m-%d'))\n",
    "        current_date += timedelta(days = 1)\n",
    "    return weeks"
   ]
  },
  {
   "cell_type": "code",
   "execution_count": 17,
   "metadata": {},
   "outputs": [
    {
     "name": "stdout",
     "output_type": "stream",
     "text": [
      "[['2018-11-26', '2018-11-27', '2018-11-28', '2018-11-29', '2018-11-30', '2018-12-01', '2018-12-02'], ['2018-12-03', '2018-12-04', '2018-12-05', '2018-12-06', '2018-12-07', '2018-12-08', '2018-12-09']]\n"
     ]
    }
   ],
   "source": [
    "print(weeks_separator(start_date, end_date))"
   ]
  }
 ],
 "metadata": {
  "kernelspec": {
   "display_name": "Python 3",
   "language": "python",
   "name": "python3"
  },
  "language_info": {
   "codemirror_mode": {
    "name": "ipython",
    "version": 3
   },
   "file_extension": ".py",
   "mimetype": "text/x-python",
   "name": "python",
   "nbconvert_exporter": "python",
   "pygments_lexer": "ipython3",
   "version": "3.7.0"
  }
 },
 "nbformat": 4,
 "nbformat_minor": 2
}
