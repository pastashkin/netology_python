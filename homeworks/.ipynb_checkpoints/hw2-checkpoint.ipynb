{
 "cells": [
  {
   "cell_type": "markdown",
   "metadata": {},
   "source": [
    "### Задание 1\n",
    "\n",
    "Дан список с визитами по городам и странам. Напишите код, который возвращает отфильтрованный список geo_logs, содержащий только визиты из России. Считайте, что список geo_logs легко помещается в оперативной памяти."
   ]
  },
  {
   "cell_type": "code",
   "execution_count": 3,
   "metadata": {},
   "outputs": [],
   "source": [
    "# В условии сказано список, а приведен словарь - исправляю.\n",
    "# Иначе выдает ошибку invalid syntax на данных из условия/\n",
    "geo_logs = {\n",
    "'visit1':['Москва', 'Россия'],\n",
    "'visit2':['Дели', 'Индия'],\n",
    "'visit3':['Владимир', 'Россия'],\n",
    "'visit4':['Лиссабон', 'Португалия'],\n",
    "'visit5':['Париж', 'Франция'],\n",
    "'visit6':['Лиссабон', 'Португалия'],\n",
    "'visit7':['Тула', 'Россия'],\n",
    "'visit8':['Тула', 'Россия'],\n",
    "'visit9':['Курск', 'Россия'],\n",
    "'visit10':['Архангельск', 'Россия'],\n",
    "            }"
   ]
  },
  {
   "cell_type": "code",
   "execution_count": 5,
   "metadata": {},
   "outputs": [],
   "source": [
    "# Будем превращать словарь в список, как сказано в условии\n",
    "list = []\n",
    "for visit in geo_logs.items():\n",
    "    if 'Россия' in visit[1]: # и находу фильтруем по визитам в России\n",
    "        list.append(visit[0])\n",
    "        list.append(visit[1])"
   ]
  },
  {
   "cell_type": "code",
   "execution_count": 19,
   "metadata": {},
   "outputs": [
    {
     "name": "stdout",
     "output_type": "stream",
     "text": [
      "['visit1', ['Москва', 'Россия'], 'visit3', ['Владимир', 'Россия'], 'visit7', ['Тула', 'Россия'], 'visit8', ['Тула', 'Россия'], 'visit9', ['Курск', 'Россия'], 'visit10', ['Архангельск', 'Россия']]\n"
     ]
    }
   ],
   "source": [
    "# Получаем отфильрованный \"список\", который содержит только визиты из России\n",
    "# При этом на четном индексе у нас визит, на нечетном - города и страны\n",
    "print(list)"
   ]
  },
  {
   "cell_type": "code",
   "execution_count": 23,
   "metadata": {},
   "outputs": [
    {
     "data": {
      "text/plain": [
       "[['visit1', ['Москва', 'Россия']],\n",
       " ['visit3', ['Владимир', 'Россия']],\n",
       " ['visit7', ['Тула', 'Россия']],\n",
       " ['visit8', ['Тула', 'Россия']],\n",
       " ['visit9', ['Курск', 'Россия']],\n",
       " ['visit10', ['Архангельск', 'Россия']]]"
      ]
     },
     "execution_count": 23,
     "metadata": {},
     "output_type": "execute_result"
    }
   ],
   "source": [
    "# Вот вариант с list comprehension\n",
    "[[x[0], x[1]] for x in geo_logs.items() if 'Россия' in x[1]]"
   ]
  },
  {
   "cell_type": "markdown",
   "metadata": {},
   "source": [
    "### Задание 2\n",
    "\n",
    "Выведите на экран все уникальные гео-ID из значений словаря ids. Т. е. список вида [213, 15, 54, 119, 98, 35]"
   ]
  },
  {
   "cell_type": "code",
   "execution_count": 25,
   "metadata": {},
   "outputs": [],
   "source": [
    "ids = {'user1': [213, 213, 213, 15, 213], 'user2': [54, 54, 119, 119, 119], 'user3': [213, 98, 98, 35]}"
   ]
  },
  {
   "cell_type": "code",
   "execution_count": 35,
   "metadata": {},
   "outputs": [
    {
     "name": "stdout",
     "output_type": "stream",
     "text": [
      "[213, 15, 54, 119, 98, 35]\n"
     ]
    }
   ],
   "source": [
    "unique_ids = []\n",
    "for id in ids.values():\n",
    "    for i in id:\n",
    "        if i not in unique_ids:\n",
    "            unique_ids.append(i)\n",
    "print(unique_ids)"
   ]
  },
  {
   "cell_type": "markdown",
   "metadata": {},
   "source": [
    "### Задание 3\n",
    "\n",
    "Список поисковых запросов. Получить распределение количества слов в них. Т. е. поисковых запросов из одного слова 5%, из двух - 7%, из трех - 3% итд."
   ]
  },
  {
   "cell_type": "code",
   "execution_count": 66,
   "metadata": {},
   "outputs": [],
   "source": [
    "queries = [\n",
    "'фотографии Байкала на закате', 'скачать',\n",
    "'смотреть сериалы онлайн', 'новости спорта',\n",
    "'афиша кино', 'курс доллара',\n",
    "'сериалы этим летом', 'курс по питону',\n",
    "'сериалы про спорт', 'Погода на завра']"
   ]
  },
  {
   "cell_type": "code",
   "execution_count": 71,
   "metadata": {},
   "outputs": [
    {
     "data": {
      "text/plain": [
       "{'Слов - 4': '10.0%',\n",
       " 'Слов - 1': '10.0%',\n",
       " 'Слов - 3': '50.0%',\n",
       " 'Слов - 2': '30.0%'}"
      ]
     },
     "execution_count": 71,
     "metadata": {},
     "output_type": "execute_result"
    }
   ],
   "source": [
    "# Для начала создаем список, в котором будут перечислены длины всех запросов в словах\n",
    "query_words = [len(query.split(' ')) for query in queries]\n",
    "# Наполним пустой словарь пробежавшись по всему списку \n",
    "query_counter = {}\n",
    "for query in query_words:\n",
    "    query_counter.update({'Слов - ' + str(query):\n",
    "                          str(round(query_words.count(query) / len(query_words),1) * 100) + '%'})\n",
    "query_counter"
   ]
  },
  {
   "cell_type": "markdown",
   "metadata": {},
   "source": [
    "### Задание 4 *\n",
    "\n",
    "Дана статистика рекламных каналов по объемам продаж. Напишите скрипт, который возвращает название канала с максимальным объемом.\n",
    "Т. е. в данном примере скрипт должен возвращать 'yandex'."
   ]
  },
  {
   "cell_type": "code",
   "execution_count": 74,
   "metadata": {},
   "outputs": [],
   "source": [
    "stats = {'facebook': 55, 'yandex': 120, 'vk': 115, 'google': 99, 'email': 42, 'ok': 98}"
   ]
  },
  {
   "cell_type": "code",
   "execution_count": 84,
   "metadata": {},
   "outputs": [
    {
     "name": "stdout",
     "output_type": "stream",
     "text": [
      "yandex\n"
     ]
    }
   ],
   "source": [
    "# Простой скрипт, который пробегается по всем парам ключ-значение, и сравнивает значение с максимальным\n",
    "# Если на текущем шаге значение максимально - записываем пару для дальнейшего сравнения\n",
    "volume = 0\n",
    "chanel = ''\n",
    "for key, value in stats.items():\n",
    "    if value > volume:\n",
    "        volume = value\n",
    "        chanel = key\n",
    "print(chanel)"
   ]
  },
  {
   "cell_type": "markdown",
   "metadata": {},
   "source": [
    "### Задание 5 *\n",
    "Дан поток логов по количеству просмотренных страниц для каждого пользователя. Список отсортирован по ID пользователя. Вам необходимо написать алгоритм, который считает среднее значение просмотров на пользователя. Т. е. надо посчитать отношение суммы всех просмотров к количеству уникальных пользователей. Учтите, что весь список stream не помещается в оперативную память, т. е. его нужно обрабатывать поэлементно в цикле."
   ]
  },
  {
   "cell_type": "code",
   "execution_count": 87,
   "metadata": {},
   "outputs": [],
   "source": [
    "stream = [\n",
    "'2018-01-01,user1,3',\n",
    "'2018-01-07,user1,4',\n",
    "'2018-03-29,user1,1',\n",
    "'2018-04-04,user1,13',\n",
    "'2018-01-05,user2,7',\n",
    "'2018-06-14,user3,4',\n",
    "'2018-07-02,user3,10',\n",
    "'2018-03-21,user4,19',\n",
    "'2018-03-22,user4,4',\n",
    "'2018-04-22,user4,8',\n",
    "'2018-05-03,user4,9',\n",
    "'2018-05-11,user4,11']"
   ]
  },
  {
   "cell_type": "code",
   "execution_count": 196,
   "metadata": {
    "scrolled": true
   },
   "outputs": [
    {
     "name": "stdout",
     "output_type": "stream",
     "text": [
      "7.75\n"
     ]
    }
   ],
   "source": [
    "# Алгоритм бежит по строкам и пополняет словарь {user: [сумма просмотров user'а, счетчик user'а]}\n",
    "сounter = {}\n",
    "for row in stream:\n",
    "    row = row.split(',')\n",
    "    if row[1] not in counter.keys():\n",
    "        counter[row[1]] = [int(row[2]), 1]\n",
    "    else:\n",
    "        new_value = counter.pop(row[1])\n",
    "        new_value[0], new_value[1] = [new_value[0] + int(row[2]), new_value[1] + 1]\n",
    "        counter[row[1]] = [new_value[0], new_value[1]]\n",
    "# Теперь пройдемся по словарю и посчитаем общее среднее\n",
    "total_views = 0\n",
    "total_counter = 0\n",
    "for user in counter.items():\n",
    "    total_views += user[1][0]\n",
    "    total_counter += user[1][1]\n",
    "# Почистим словарь для следующих рассчетов\n",
    "counter.clear()\n",
    "print(total_views / total_counter)"
   ]
  },
  {
   "cell_type": "markdown",
   "metadata": {},
   "source": [
    "### Задание 6 *\n",
    "\n",
    "Дана статистика рекламных кампаний по дням. Напишите алгоритм, который по паре дата-кампания ищет значение численного столбца. Т. е. для даты '2018-01-01' и 'google' нужно получить число 25. Считайте, что все комбинации дата-кампания уникальны, а список stats легко помещается в оперативной памяти."
   ]
  },
  {
   "cell_type": "code",
   "execution_count": 199,
   "metadata": {},
   "outputs": [],
   "source": [
    "stats = [\n",
    "['2018-01-01', 'google', 25],\n",
    "['2018-01-01', 'yandex', 65],\n",
    "['2018-01-01', 'market', 89],\n",
    "['2018-01-02', 'google', 574],\n",
    "['2018-01-02', 'yandex', 249],\n",
    "['2018-01-02', 'market', 994],\n",
    "['2018-01-03', 'google', 1843],\n",
    "['2018-01-03', 'yandex', 1327],\n",
    "['2018-01-03', 'market', 1764]]"
   ]
  },
  {
   "cell_type": "code",
   "execution_count": 211,
   "metadata": {},
   "outputs": [
    {
     "name": "stdout",
     "output_type": "stream",
     "text": [
      "1327\n"
     ]
    }
   ],
   "source": [
    "dt = '2018-01-03'\n",
    "comp = 'yandex'\n",
    "value = [x[2] for x in stats if x[0] == dt and x[1] == comp]\n",
    "print(value[0])"
   ]
  },
  {
   "cell_type": "markdown",
   "metadata": {},
   "source": [
    "### Бонусный вариант *\n",
    "\n",
    "Рассмотрите обобщенный вариант этой задачи: имеется таблица из n столбцов. Первые n-1 столбцов - признаки (комбинации этих признаков в таблице уникальные). Последний столбец - значение. Вам необходимо по набору n-1 признаков найти соответствующую строчку в таблице и вернуть значение из правого столбца. Учтите, что исходная таблица может быть любого размера.\n",
    "\n",
    "Одно из применений задачи - объединение двух таблиц по n столбцов, одна из которых помещается в оперативной памяти. Например, 7 столбцов по 1 и 10 миллионов строк."
   ]
  },
  {
   "cell_type": "code",
   "execution_count": 213,
   "metadata": {},
   "outputs": [
    {
     "name": "stdout",
     "output_type": "stream",
     "text": [
      "1327\n"
     ]
    }
   ],
   "source": [
    "key = ['2018-01-03', 'yandex']\n",
    "for row in stats:\n",
    "    if key == row[:-1]:\n",
    "        print(row[-1])"
   ]
  }
 ],
 "metadata": {
  "kernelspec": {
   "display_name": "Python 3",
   "language": "python",
   "name": "python3"
  },
  "language_info": {
   "codemirror_mode": {
    "name": "ipython",
    "version": 3
   },
   "file_extension": ".py",
   "mimetype": "text/x-python",
   "name": "python",
   "nbconvert_exporter": "python",
   "pygments_lexer": "ipython3",
   "version": "3.7.0"
  }
 },
 "nbformat": 4,
 "nbformat_minor": 2
}
