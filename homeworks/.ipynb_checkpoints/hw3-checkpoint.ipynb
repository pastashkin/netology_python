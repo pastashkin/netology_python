{
 "cells": [
  {
   "cell_type": "markdown",
   "metadata": {},
   "source": [
    "### Задание 1\n",
    "Дан список.\n",
    "Напишите функцию, которая возвращает сумму элементов на диагонали. Т. е. 13+32+23+35."
   ]
  },
  {
   "cell_type": "code",
   "execution_count": 6,
   "metadata": {},
   "outputs": [],
   "source": [
    "data = [\n",
    "    [13, 25, 23, 34],\n",
    "    [45, 32, 44, 47],\n",
    "    [12, 33, 23, 95],\n",
    "    [13, 53, 34, 35],\n",
    "]"
   ]
  },
  {
   "cell_type": "code",
   "execution_count": 9,
   "metadata": {},
   "outputs": [
    {
     "data": {
      "text/plain": [
       "103"
      ]
     },
     "execution_count": 9,
     "metadata": {},
     "output_type": "execute_result"
    }
   ],
   "source": [
    "def diag_sum(matrix):\n",
    "    return sum([matrix[x][x] for x in range(len(matrix))])      \n",
    "diag_sum(data)"
   ]
  },
  {
   "cell_type": "markdown",
   "metadata": {},
   "source": [
    "### Задание 2\n",
    "Дан список чисел, часть из которых имеют строковый тип или содержат буквы. Напишите функцию, которая возвращает сумму квадратов элементов, которые могут быть числами."
   ]
  },
  {
   "cell_type": "code",
   "execution_count": 11,
   "metadata": {},
   "outputs": [],
   "source": [
    "data = [1, '5', 'abc', 20, '2']"
   ]
  },
  {
   "cell_type": "code",
   "execution_count": 15,
   "metadata": {},
   "outputs": [
    {
     "data": {
      "text/plain": [
       "430.0"
      ]
     },
     "execution_count": 15,
     "metadata": {},
     "output_type": "execute_result"
    }
   ],
   "source": [
    "def is_number(s):\n",
    "    try:\n",
    "        float(s)\n",
    "        return True\n",
    "    except ValueError:\n",
    "        return False\n",
    "\n",
    "def sqr_sum(list):\n",
    "    return sum([float(x)**2 for x in list if is_number(x)])\n",
    "sqr_sum(data)"
   ]
  },
  {
   "cell_type": "markdown",
   "metadata": {},
   "source": [
    "### Задание 3\n",
    "Напишите функцию, которая возвращает название валюты (поле 'Name') с максимальным значением курса с помощью сервиса https://www.cbr-xml-daily.ru/daily_json.js"
   ]
  },
  {
   "cell_type": "code",
   "execution_count": 82,
   "metadata": {},
   "outputs": [],
   "source": [
    "import requests\n",
    "def max_curr():\n",
    "    request = requests.get('https://www.cbr-xml-daily.ru/daily_json.js').json()['Valute']\n",
    "    max_value = 0.0\n",
    "    for curr in request:\n",
    "        if (float(request[curr]['Value']) / request[curr]['Nominal']) > max_value:\n",
    "            max_value = float(request[curr]['Value'])\n",
    "            max_curr = request[curr]['Name']\n",
    "    return max_curr"
   ]
  },
  {
   "cell_type": "code",
   "execution_count": 83,
   "metadata": {},
   "outputs": [
    {
     "data": {
      "text/plain": [
       "'СДР (специальные права заимствования)'"
      ]
     },
     "execution_count": 83,
     "metadata": {},
     "output_type": "execute_result"
    }
   ],
   "source": [
    "max_curr()"
   ]
  },
  {
   "cell_type": "markdown",
   "metadata": {},
   "source": [
    "### Задание 4\n",
    "Последнее упражнение с занятия\n",
    "1. Добавьте в класс еще один формат, который возвращает название валюты (например, 'Евро').\n",
    "2. Добавьте в класс параметр diff (со значениями True или False), который в случае значения True в методах eur и usd будет возвращать не курс валюты, а изменение по сравнению в прошлым значением."
   ]
  },
  {
   "cell_type": "code",
   "execution_count": 125,
   "metadata": {},
   "outputs": [],
   "source": [
    "import requests\n",
    "class Rate:\n",
    "    def __init__(self, format='value', diff=False):\n",
    "        self.format = format\n",
    "    \n",
    "    def exchange_rates(self):\n",
    "        r = requests.get('https://www.cbr-xml-daily.ru/daily_json.js')\n",
    "        return r.json()['Valute']\n",
    "    \n",
    "    def make_format(self, currency):\n",
    "        response = self.exchange_rates()\n",
    "        if currency in response:\n",
    "            if self.format == 'full':\n",
    "                return response[currency]\n",
    "            if self.format == 'value':\n",
    "                return response[currency]['Value']\n",
    "# Добавил проверку на запрос имени в формате\n",
    "            if self.format == 'name':\n",
    "                return response[currency]['Name']   \n",
    "# Также добавил проверку на выгрузку значений вчерашнего дня в формате\n",
    "            if self.format == 'previous':\n",
    "                return response[currency]['Previous']  \n",
    "        return 'Error'\n",
    "# Добавил метод diff. Если его вызвать, и передать ему валюту,\n",
    "#    он вернет значение разница с предыдущим днем с указанием знака\n",
    "# Его вызываем в методах Валют, чтобы не нагромождать\n",
    "    def diff(self, currency):\n",
    "        sign = ''\n",
    "        if self.make_format(currency) > Rate('previous').make_format(currency):\n",
    "            sign = '+'\n",
    "        elif self.make_format(currency) < Rate('previous').make_format(currency):\n",
    "            sign = '-'\n",
    "        return sign + str(round(self.make_format(currency) - Rate('previous').make_format(currency), 4))\n",
    "# Добавил возможность передать переменную diff в метод с валютами    \n",
    "    def eur(self, diff=False):\n",
    "        if diff:\n",
    "            return self.diff('EUR')\n",
    "        else:    \n",
    "            return self.make_format('EUR')\n",
    "    \n",
    "    def usd(self, diff=False):\n",
    "        if diff:\n",
    "            return self.diff('USD')\n",
    "        else:    \n",
    "            return self.make_format('USD')"
   ]
  },
  {
   "cell_type": "code",
   "execution_count": 145,
   "metadata": {},
   "outputs": [
    {
     "name": "stdout",
     "output_type": "stream",
     "text": [
      "Задание 4.1: Доллар США \n",
      " Задание 4.2: +0.3775\n"
     ]
    }
   ],
   "source": [
    "print('Задание 4.1: ' + Rate('name').usd(),'\\n','Задание 4.2: ' + Rate().usd(True))"
   ]
  },
  {
   "cell_type": "markdown",
   "metadata": {},
   "source": [
    "### Задание 5\n",
    "Напишите функцию, возвращающую сумму первых n чисел Фибоначчи"
   ]
  },
  {
   "cell_type": "code",
   "execution_count": 232,
   "metadata": {},
   "outputs": [],
   "source": [
    "# Каюсь, моей сообразительности не хватило, чтобы обернуть это все в одну функцию\n",
    "def fib(n):\n",
    "    if n == 0:\n",
    "        return 0\n",
    "    elif n == 1:\n",
    "        return 1\n",
    "    else:\n",
    "        return fib(n-1) + fib(n-2)\n",
    "# Поэтому функцией fib мы генерим интересующее n-ное число, а функцией sum_fib генерим массив и считаем сумму\n",
    "def sum_fib(n):\n",
    "    return sum([fib(x) for x in range(n)])"
   ]
  },
  {
   "cell_type": "code",
   "execution_count": 244,
   "metadata": {},
   "outputs": [
    {
     "data": {
      "text/plain": [
       "True"
      ]
     },
     "execution_count": 244,
     "metadata": {},
     "output_type": "execute_result"
    }
   ],
   "source": [
    "sum_fib(10) == sum([0, 1, 1, 2, 3, 5, 8, 13, 21, 34])"
   ]
  },
  {
   "cell_type": "markdown",
   "metadata": {},
   "source": [
    "### Задание 6\n",
    "Напишите функцию, преобразующую произвольный список вида ['2018-01-01', 'yandex', 'cpc', 100] в словарь {'2018-01-01': {'yandex': {'cpc': 100}}}"
   ]
  },
  {
   "cell_type": "code",
   "execution_count": 396,
   "metadata": {},
   "outputs": [],
   "source": [
    "list = ['seriously?', '2018-01-01', 'yandex', 'cpc', 100]\n",
    "test = {'seriously?': {'2018-01-01': {'yandex': {'cpc': 100}}}}"
   ]
  },
  {
   "cell_type": "code",
   "execution_count": 401,
   "metadata": {},
   "outputs": [],
   "source": [
    "def dict(list):\n",
    "    d = {}\n",
    "    list = list[::-1]\n",
    "    if len(list) == 2:\n",
    "        d[list[1]] = list[0]\n",
    "        return d\n",
    "    else:\n",
    "        d.setdefault(list.pop(), dicti(list[::-1]))\n",
    "        return d"
   ]
  },
  {
   "cell_type": "code",
   "execution_count": 402,
   "metadata": {},
   "outputs": [
    {
     "name": "stdout",
     "output_type": "stream",
     "text": [
      "{'seriously?': {'2018-01-01': {'yandex': {'cpc': 100}}}}\n"
     ]
    },
    {
     "data": {
      "text/plain": [
       "True"
      ]
     },
     "execution_count": 402,
     "metadata": {},
     "output_type": "execute_result"
    }
   ],
   "source": [
    "# Крутое задание - пришлось попотеть. Мне понравилось:)\n",
    "print(dict(list))\n",
    "dict(list) == test"
   ]
  }
 ],
 "metadata": {
  "kernelspec": {
   "display_name": "Python 3",
   "language": "python",
   "name": "python3"
  },
  "language_info": {
   "codemirror_mode": {
    "name": "ipython",
    "version": 3
   },
   "file_extension": ".py",
   "mimetype": "text/x-python",
   "name": "python",
   "nbconvert_exporter": "python",
   "pygments_lexer": "ipython3",
   "version": "3.7.0"
  }
 },
 "nbformat": 4,
 "nbformat_minor": 2
}
