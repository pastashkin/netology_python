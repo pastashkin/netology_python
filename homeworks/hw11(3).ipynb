{
 "cells": [
  {
   "cell_type": "markdown",
   "metadata": {},
   "source": [
    "# Домашняя работа №2"
   ]
  },
  {
   "cell_type": "code",
   "execution_count": 2,
   "metadata": {},
   "outputs": [],
   "source": [
    "import pandas as pd\n",
    "from scipy import stats\n",
    "import numpy as np\n",
    "\n",
    "import seaborn as sns\n",
    "from sklearn import datasets\n",
    "from matplotlib import pyplot as plt\n",
    "from statsmodels.distributions.empirical_distribution import ECDF"
   ]
  },
  {
   "cell_type": "markdown",
   "metadata": {},
   "source": [
    "## Генеральная совокупность и выборка"
   ]
  },
  {
   "cell_type": "markdown",
   "metadata": {},
   "source": [
    "- Чем отличается генеральная совокупность от выборки?"
   ]
  },
  {
   "cell_type": "markdown",
   "metadata": {},
   "source": [
    "Генеральная совокупность - это совокупность всех объектов о которых предполагается делать выводы. Выборка - это часть генеральной совокупности, которая охватывавется экспериментом. Т.о. все объекты ген. совокупности могут быть разбиты на подмножества разных размеров - выборки. При этом эти подмножества могут как пересекаться, так и нет, все зависит от целей экспериментатора и способов формирования выборки.\n",
    "Выборка  также - это последовательность независимых, одинаково распределенных случайных величин."
   ]
  },
  {
   "cell_type": "markdown",
   "metadata": {},
   "source": [
    "- Если размер выборки больше 200, то такая выборка является репрезентативной?"
   ]
  },
  {
   "cell_type": "markdown",
   "metadata": {},
   "source": [
    "Это зависит от размеров генеральной совокупности и решаемых задач. Например, выборка 200 людей из России, для целей анализа цвета волос, не даст нам никакого представления о всей популяции людей на планете. В тоже время выборка 200 пациентов для тестирования действия нового препарата - это более чем достаточно. Золотой стандарт - от 100 человек. Требование к обоснованию размера выборки, например, закреплено в [Good Clinical Practice](https://ru.wikipedia.org/wiki/GCP_(%D1%81%D1%82%D0%B0%D0%BD%D0%B4%D0%B0%D1%80%D1%82))"
   ]
  },
  {
   "cell_type": "markdown",
   "metadata": {},
   "source": [
    "- Измерили длину волос футболистов сборной Франции на ЧМ-2018. Что могло являться генеральной совокупностью? Приведите 3 примера."
   ]
  },
  {
   "cell_type": "markdown",
   "metadata": {},
   "source": [
    "1. Длина волос всех футболистов на ЧМ-2018\n",
    "2. Длина волос всех футболистов во Франции\n",
    "3. Длина волос футоблистов - обладателей кубка мира"
   ]
  },
  {
   "cell_type": "markdown",
   "metadata": {},
   "source": [
    "- Пусть генеральная совокупность --- вес детей, родившихся в Волгограде за последние 10 лет. Предложите 2 стратегии, как сгенерировать выборку."
   ]
  },
  {
   "cell_type": "markdown",
   "metadata": {},
   "source": [
    "1. Брать по 60 детей (30 мальчиков и 30 девочек) из каждого районного роддома каждый четный год.\n",
    "2. Взять по 10 детей (5 мальчиков и 5 девочек) из 2 районных роддомов каждые пол года."
   ]
  },
  {
   "cell_type": "markdown",
   "metadata": {},
   "source": [
    "## Параметры центра и разброса"
   ]
  },
  {
   "cell_type": "markdown",
   "metadata": {},
   "source": [
    "- Постройте распределение, у которого отсутствует мода.\n"
   ]
  },
  {
   "cell_type": "code",
   "execution_count": 3,
   "metadata": {},
   "outputs": [
    {
     "data": {
      "image/png": "[encoded data removed]",
      "text/plain": [
       "<Figure size 648x324 with 1 Axes>"
      ]
     },
     "metadata": {
      "needs_background": "light"
     },
     "output_type": "display_data"
    }
   ],
   "source": [
    "fig, ax = plt.subplots(1, 1)\n",
    "fig.set_size_inches(9, 4.5)\n",
    "\n",
    "x = np.arange(1, 7, 1)\n",
    "ax.plot(x, [1/6 for y in range(6)], label=\"Uniform distribution of a normal dice\")\n",
    "\n",
    "\n",
    "plt.xlabel('result')\n",
    "plt.ylabel('probability')\n",
    "plt.legend()\n",
    "plt.show()"
   ]
  },
  {
   "cell_type": "markdown",
   "metadata": {},
   "source": [
    "- Какая из статистик (медиана, матожидание) будет наиболее неустойчивой при выбросах? Проверить на выборке из Гамма-распределения. "
   ]
  },
  {
   "cell_type": "code",
   "execution_count": 4,
   "metadata": {},
   "outputs": [
    {
     "name": "stdout",
     "output_type": "stream",
     "text": [
      "Median comparison: before = 3.49, after = 3.53\n",
      "Mean comparison: before = 3.65, after = 4.25\n",
      "Median is less sensitive for overshoots in the sample\n"
     ]
    }
   ],
   "source": [
    "gamma_rv = stats.gamma(3, 1)\n",
    "sample = gamma_rv.rvs(51)\n",
    "med = sorted(sample)[24]\n",
    "mean = sample.mean()\n",
    "\n",
    "#your code here\n",
    "overshoot = sample[-1] * 10\n",
    "sample_with_overshoot = np.append(np.delete(sample, 50), overshoot)\n",
    "new_med =sorted(sample_with_overshoot)[24]\n",
    "new_mean =sample_with_overshoot.mean()\n",
    "print('Median comparison: before = {}, after = {}'.format(round(med, 2), round(new_med, 2)))\n",
    "print('Mean comparison: before = {}, after = {}'.format(round(mean, 2), round(new_mean, 2)))\n",
    "print('Median is less sensitive for overshoots in the sample')"
   ]
  },
  {
   "cell_type": "markdown",
   "metadata": {},
   "source": [
    "- Как изменится матожидание, если к выборке добавить константу $C$? Умножить на $C$. \n",
    "\n",
    "Проверите на выборке из распределения Пуассона"
   ]
  },
  {
   "cell_type": "code",
   "execution_count": 5,
   "metadata": {},
   "outputs": [
    {
     "name": "stdout",
     "output_type": "stream",
     "text": [
      "Mean = 2.09, Mean+C = 2.59, Mean*C = 1.04\n"
     ]
    }
   ],
   "source": [
    "pois_rv = stats.poisson(2)\n",
    "sample = pois_rv.rvs(100)\n",
    "C = 0.5\n",
    "#your code here\n",
    "mean = sample.mean()\n",
    "mean_with_c = (sample+C).mean()\n",
    "mean_mult_c = (sample*C).mean()\n",
    "print('Mean = {}, Mean+C = {}, Mean*C = {}'.format(round(mean,2),round(mean_with_c,2),round(mean_mult_c,2)))"
   ]
  },
  {
   "cell_type": "markdown",
   "metadata": {},
   "source": [
    "- Как изменится дисперсия при добавлении выбросов? Проверьте для распределения экспоненциального распределения"
   ]
  },
  {
   "cell_type": "code",
   "execution_count": 6,
   "metadata": {},
   "outputs": [
    {
     "name": "stdout",
     "output_type": "stream",
     "text": [
      "Var before = 1.0786, Var after = 44.2288\n",
      "Var is drasticly sensitive for overshoots\n"
     ]
    }
   ],
   "source": [
    "exp_rv = stats.expon(4)\n",
    "sample = exp_rv.rvs(50)\n",
    "var = sample.var()\n",
    "\n",
    "#your code here\n",
    "overshoot = np.arange(sample.max() * 2, sample.max() * 3, 1)\n",
    "sample_with_overshoot = np.append(sample, overshoot)\n",
    "new_var = sample_with_overshoot.var()\n",
    "\n",
    "print('Var before = {}, Var after = {}'.format(round(var, 4), round(new_var, 4)))\n",
    "print('Var is drasticly sensitive for overshoots')"
   ]
  },
  {
   "cell_type": "markdown",
   "metadata": {},
   "source": [
    "- Что шире: интерквантильный размах ($X_{0.75} - X_{0.25}$) или $(\\bar{X}-s, \\bar{X}+s)$ для $\\mathcal{N}(a, \\sigma^2)$. Посчитайте и сравните эти интервалы для распредения $\\mathcal{N}(3,1)$"
   ]
  },
  {
   "cell_type": "code",
   "execution_count": 7,
   "metadata": {},
   "outputs": [
    {
     "name": "stdout",
     "output_type": "stream",
     "text": [
      "(X_0.75 - X_0.25) = 1.31, (X+s)-(X-s) = 1.99\n",
      "+/- 1 std is larger\n"
     ]
    }
   ],
   "source": [
    "norm_rv = stats.norm(3,1)\n",
    "sample = norm_rv.rvs(1000)\n",
    "#your code here\n",
    "int_qnt_range = np.quantile(sample, 0.75) - np.quantile(sample, 0.25)\n",
    "std_from_mean = sample.std() * 2\n",
    "print('(X_0.75 - X_0.25) = {}, (X+s)-(X-s) = {}'.format(round(int_qnt_range, 2),round(std_from_mean, 2)))\n",
    "print('+/- 1 std is larger')"
   ]
  },
  {
   "cell_type": "markdown",
   "metadata": {},
   "source": [
    "## Основные статистики и ЦПТ"
   ]
  },
  {
   "cell_type": "markdown",
   "metadata": {},
   "source": [
    "- Что такое статистика? Посчитайте любую для бета-распределения (1,3)"
   ]
  },
  {
   "cell_type": "markdown",
   "metadata": {},
   "source": [
    "В общем смысле статистика - это любая функция от выборки, которая описывает эту выборку.Простыми словами, статистика - это то как мы можем описать нашу выборку используя меры центральной тенденции, такие как среднее, мода, медиана, а также меры изменчивости, такие как дисперсия, межквартильный размах и прочее."
   ]
  },
  {
   "cell_type": "code",
   "execution_count": 8,
   "metadata": {},
   "outputs": [
    {
     "name": "stdout",
     "output_type": "stream",
     "text": [
      "std for beta distribution sample = 0.1757\n"
     ]
    }
   ],
   "source": [
    "beta_rv = stats.beta(1,3)\n",
    "#your code here\n",
    "sample = beta_rv.rvs(50)\n",
    "beta_std = sample.std()\n",
    "print('std for beta distribution sample = {}'.format(round(beta_std, 4)))\n"
   ]
  },
  {
   "cell_type": "markdown",
   "metadata": {},
   "source": [
    "- Какие статистики являются оценками матожидания, медианы и дисперсии? Посчитайте их для гамма-распределения с параметрами (2, 2)"
   ]
  },
  {
   "cell_type": "markdown",
   "metadata": {},
   "source": [
    "Статистики для оценки на выборке:\n",
    "\n",
    "#### Выборочное среднее\n",
    "$$\\bar{X} = \\frac{1}{n}\\sum_{i=1}^{n}X_{i}$$\n",
    "\n",
    "#### Медиана\n",
    "X - сортированный диапазон\n",
    "$$m = \\begin{cases}\n",
    "X_{(n / 2)},\\ n = 2k \\\\\n",
    "\\dfrac{X_{(n / 2)} + X_{(n / 2) + 1}}{2},\\ n = 2k + 1 \\\\\n",
    "\\end{cases}$$\n",
    "\n",
    "#### Выборочная дисперсия\n",
    "$$\\sigma^2 = \\frac{1}{n-1} \\sum_{i=1}^{n} (X_i - \\bar{X})^2 $$"
   ]
  },
  {
   "cell_type": "code",
   "execution_count": 110,
   "metadata": {},
   "outputs": [
    {
     "name": "stdout",
     "output_type": "stream",
     "text": [
      "Среднее: 4.02, Медиана: 3.7, Дисперсия: 2.01\n"
     ]
    }
   ],
   "source": [
    "gamma_rv = stats.gamma(2,2)\n",
    "\n",
    "#your code here\n",
    "sample = gamma_rv.rvs(1000)\n",
    "# Ниже считаем статистики по выборке 1000 величин из гамма распределения\n",
    "mean = sample.sum() / len(sample)\n",
    "med = np.quantile(sample, 0.5)\n",
    "var = ((sample-mean)**2).sum() / (len(sample) - 1)\n",
    "print('Среднее: {}, Медиана: {}, Дисперсия: {}'.format(round(mean,2),round(med,2),round(var,2)))"
   ]
  },
  {
   "cell_type": "markdown",
   "metadata": {},
   "source": [
    "- Какое распределение имеет $\\bar{X}$ по ЦПТ? Если исходное распределение $\\mathcal{N}(5, 2)$. Сгенерировать выборки размером 50 из этого распределения и проверить. (построить распределение средних)"
   ]
  },
  {
   "cell_type": "markdown",
   "metadata": {},
   "source": [
    "Выборочные средние $\\bar{X}$ должны быть распределены нормально вблизи среднего генеральной совокупности $M$. Дисперсией такого распределения называется стандартная ошибка среднего которая находится по формуле:\n",
    "\n",
    "$$SE_{\\bar{X}} = \\frac{\\sigma}{\\sqrt{n}}$$"
   ]
  },
  {
   "cell_type": "code",
   "execution_count": 209,
   "metadata": {
    "scrolled": true
   },
   "outputs": [
    {
     "name": "stdout",
     "output_type": "stream",
     "text": [
      "Среднее значение средних значений = 4.98863\n",
      "SE = 0.28284\n"
     ]
    },
    {
     "data": {
      "text/plain": [
       "<matplotlib.legend.Legend at 0x7f17c3616ba8>"
      ]
     },
     "execution_count": 209,
     "metadata": {},
     "output_type": "execute_result"
    },
    {
     "data": {
      "image/png": "[encoded data removed]",
      "text/plain": [
       "<Figure size 648x648 with 1 Axes>"
      ]
     },
     "metadata": {
      "needs_background": "light"
     },
     "output_type": "display_data"
    }
   ],
   "source": [
    "# your code here\n",
    "norm_rv = stats.norm(5,2)\n",
    "sample_x1 = []\n",
    "for i in range(10000):\n",
    "    sample = norm_rv.rvs(50)\n",
    "    sample_x1.append(sample.mean())\n",
    "\n",
    "# Считаем среднее значение средних значений\n",
    "mean_1 = sum(sample_x1)/len(sample_x1)\n",
    "print('Среднее значение средних значений = {}'.format(round(mean,5)))\n",
    "\n",
    "# Считаем стандартную ошибку среднего\n",
    "sample_x1 = np.array(sample_x1)\n",
    "se_1 = 2/50**0.5\n",
    "print('SE = {}'.format(round(se_1,5)))\n",
    "plt.figure(figsize=(9,9))\n",
    "plt.hist(sample_x1, bins=50)\n",
    "plt.axvline(x=mean_1-se_1, c='yellow', label='se expected')\n",
    "plt.axvline(x=mean_1+se_1, c='yellow')\n",
    "plt.axvline(x=mean_1-sample_x1.std(), c='red', label='se real')\n",
    "plt.axvline(x=mean_1+sample_x1.std(), c='red')\n",
    "plt.axvline(x=mean_1, c='green', label='mean')\n",
    "plt.legend()"
   ]
  },
  {
   "cell_type": "markdown",
   "metadata": {},
   "source": [
    "- Сгенерируйте выборки так, чтобы ЦПТ не выполнялось (распределение средних не было похоже нормальное)"
   ]
  },
  {
   "cell_type": "code",
   "execution_count": 199,
   "metadata": {},
   "outputs": [
    {
     "name": "stdout",
     "output_type": "stream",
     "text": [
      "Среднее значение средних значений = 5.02704\n",
      "SE = 0.89443\n"
     ]
    },
    {
     "data": {
      "text/plain": [
       "<matplotlib.legend.Legend at 0x7f17c387d668>"
      ]
     },
     "execution_count": 199,
     "metadata": {},
     "output_type": "execute_result"
    },
    {
     "data": {
      "image/png": "[encoded data removed]",
      "text/plain": [
       "<Figure size 648x648 with 1 Axes>"
      ]
     },
     "metadata": {
      "needs_background": "light"
     },
     "output_type": "display_data"
    }
   ],
   "source": [
    "#your code here\n",
    "norm_rv = stats.norm(5,2)\n",
    "sample_x2 = []\n",
    "for i in range(10000):\n",
    "    sample = norm_rv.rvs(5)\n",
    "    sample_x2.append(sample[0:1].mean())\n",
    "# Считаем среднее значение средних значений\n",
    "mean_2 = sum(sample_x2)/len(sample_x2)\n",
    "print('Среднее значение средних значений = {}'.format(round(mean_2,5)))\n",
    "# Считаем стандартную ошибку среднего\n",
    "sample_x2 = np.array(sample_x2)\n",
    "se_2 = 2/5**0.5\n",
    "print('SE = {}'.format(round(se_2,5)))\n",
    "plt.figure(figsize=(9,9))\n",
    "plt.hist(sample_x2, bins=50)\n",
    "plt.axvline(x=mean_2-se_2, c='yellow', label='se expected')\n",
    "plt.axvline(x=mean_2+se_2, c='yellow')\n",
    "plt.axvline(x=mean_2-sample_x2.std(), c='red', label='se real')\n",
    "plt.axvline(x=mean_2+sample_x2.std(), c='red')\n",
    "plt.axvline(x=mean_2, c='green', label='mean')\n",
    "plt.legend()"
   ]
  },
  {
   "cell_type": "markdown",
   "metadata": {},
   "source": [
    "- Сделайте z-преобразование для данного распределения и посчитайте новое матожидание и дисперсию "
   ]
  },
  {
   "cell_type": "code",
   "execution_count": 260,
   "metadata": {},
   "outputs": [
    {
     "name": "stdout",
     "output_type": "stream",
     "text": [
      "0.0\n",
      "1.0\n"
     ]
    }
   ],
   "source": [
    "expon_rv = stats.expon(3)\n",
    "sample = expon_rv.rvs(10000)\n",
    "new_sample = (sample - sample.mean())/sample.std()\n",
    "print(round(new_sample.mean(),5))\n",
    "print(round(new_sample.std(),5))\n",
    "#Насколько я понял, можно бы было просто задать распределение stats.expon(1), так как при лямбда 1, дисперсия будет равна 1"
   ]
  },
  {
   "cell_type": "markdown",
   "metadata": {},
   "source": [
    "## Доверительные интервалы и гипотезы"
   ]
  },
  {
   "cell_type": "markdown",
   "metadata": {},
   "source": [
    "В данных задачах используйте встроенную функцию, позволяющую искать квантили случайной величины **your_rv**.ppf, а также https://gallery.shinyapps.io/dist_calc/ для визуальной картины"
   ]
  },
  {
   "cell_type": "markdown",
   "metadata": {},
   "source": [
    "- Постройте 90% доверительный интервал для среднего значения $\\mathcal{\\chi^2_{10}}$."
   ]
  },
  {
   "cell_type": "code",
   "execution_count": 261,
   "metadata": {},
   "outputs": [
    {
     "data": {
      "text/plain": [
       "15.987179172105263"
      ]
     },
     "execution_count": 261,
     "metadata": {},
     "output_type": "execute_result"
    }
   ],
   "source": [
    "#your code here\n",
    "chi2_rv = stats.chi2(10)\n",
    "chi2_rv.ppf(0.9)"
   ]
  },
  {
   "cell_type": "markdown",
   "metadata": {},
   "source": [
    "- Постройте ДИ для распределения Стьюдента с df = 15 уровня доверия 90%  и 95%. Какой интервал шире?"
   ]
  },
  {
   "cell_type": "code",
   "execution_count": 202,
   "metadata": {},
   "outputs": [
    {
     "name": "stdout",
     "output_type": "stream",
     "text": [
      "+/- 1.34061\n",
      "+/- 1.75305\n"
     ]
    }
   ],
   "source": [
    "#95% - шире\n",
    "t_rv = stats.t(15)\n",
    "print('+/- {}'.format(round(t_rv.ppf(0.9),5)))\n",
    "print('+/- {}'.format(round(t_rv.ppf(0.95),5)))"
   ]
  },
  {
   "cell_type": "markdown",
   "metadata": {},
   "source": [
    "- Сгенерируйте 2 выборки с одинаковыми параметрами, отличающиеся в 2 раза по размеру. Постройте 2 90% ДИ. Чем они отличаются? Распределение $\\mathcal{N}(0,2)$ "
   ]
  },
  {
   "cell_type": "markdown",
   "metadata": {},
   "source": [
    "Теоретически (по ЦПТ) они не должны сильно отличасться. Ниже строю боксплот, и в моем конкретном случае меньшая выборка показала меньший разброс. Шанс различий в меньшей выборке выше."
   ]
  },
  {
   "cell_type": "code",
   "execution_count": 207,
   "metadata": {},
   "outputs": [
    {
     "name": "stdout",
     "output_type": "stream",
     "text": [
      "Sample_1: Q25 = -1.18473, Q75 = 1.2323\n",
      "Sample_2: Q25 = -1.54206, Q75 = 1.37013\n"
     ]
    },
    {
     "data": {
      "image/png": "[encoded data removed]",
      "text/plain": [
       "<Figure size 648x648 with 1 Axes>"
      ]
     },
     "metadata": {
      "needs_background": "light"
     },
     "output_type": "display_data"
    }
   ],
   "source": [
    "norm_rv = stats.norm(0, 2)\n",
    "#your code here\n",
    "sample_1 = norm_rv.rvs(50)\n",
    "sample_2 = norm_rv.rvs(100)\n",
    "plt.figure(figsize=(9,9))\n",
    "plt.boxplot([sample_1, sample_2])\n",
    "print('Sample_1: Q25 = {}, Q75 = {}'.format(round(np.quantile(sample_1, 0.25),5),round(np.quantile(sample_1, 0.75),5)))\n",
    "print('Sample_2: Q25 = {}, Q75 = {}'.format(round(np.quantile(sample_2, 0.25),5),round(np.quantile(sample_2, 0.75),5)))"
   ]
  },
  {
   "cell_type": "markdown",
   "metadata": {},
   "source": [
    "- Пусть $H_0: M=100$. Мы получили $p = 0,12$ и не смогли отклонить нулевую гипотезу. Однако позже выяснилось, что среднее в генеральной совокупности равняется 114. Ошибку какого рода мы допустили?"
   ]
  },
  {
   "cell_type": "markdown",
   "metadata": {},
   "source": [
    "Мы приняли ложную нулевую гипотезу и упустили открытие. Это ошибка второго рода. False negative error."
   ]
  },
  {
   "cell_type": "markdown",
   "metadata": {},
   "source": [
    "#### Какие рассуждения относительно p-value верные?\n",
    "\n",
    "- Елси p уровень значимости равен 0,003, то вероятность того, что верна нулевая гипотеза также равняется  0,003.\n",
    "- Если бы в исследовании мы получили $p=0,9$, это означало бы, что верна нулевая гипотеза.\n",
    "- Чем меньше p уровень значимости, тем хуже гипотеза.\n"
   ]
  },
  {
   "cell_type": "markdown",
   "metadata": {},
   "source": [
    "1. Нет. p лишь говорит о вероятности, что мы получим такие или еще более выраженные различия, при условии, что верна $H_0$\n",
    "2. Нет. Исследую p мы лишь принимаем, либо отвергаем нулевую гипотезу. Мы ее не отвергаем, но это не означает, что она верна.\n",
    "3. Нет. p-value не используется для сравнения качества гипотез."
   ]
  },
  {
   "cell_type": "markdown",
   "metadata": {},
   "source": [
    "- Какое $p$-value будете использовать, если отклонять $H_0$ рисковано: $0.05$ или $0.01$? Является ли 99% доверительный интервал хорошей оценкой в общем случае?"
   ]
  },
  {
   "cell_type": "markdown",
   "metadata": {},
   "source": [
    "0.01 - т.к. \"попасть\" в него сложнее. Мы предъявляем более строгие требования для отклонения нулевой гипотезы. По-хорошему маленьгие p-value - стандартная практика в точных науках, например, в физике элементарных частиц. Здесь нет места случайности, все гипотезы должны быть непоколебимы, чтобы иметь шансы лечь в основу теории.\n",
    "\n",
    "Что касается 99% доверительного интервала, то он шире чем 95%. Для более строгих выводов нужен меньший доверительный интервал."
   ]
  },
  {
   "cell_type": "markdown",
   "metadata": {},
   "source": [
    "## Стьюдент и корреляция"
   ]
  },
  {
   "cell_type": "markdown",
   "metadata": {},
   "source": [
    "- Изобразите графики плотности распределения Стьюдента для нескольких значений df= (5,10, 20, 40) и $\\mathcal{N}(0,1)$. В чем отличия?"
   ]
  },
  {
   "cell_type": "code",
   "execution_count": 210,
   "metadata": {},
   "outputs": [
    {
     "data": {
      "text/plain": [
       "<matplotlib.legend.Legend at 0x7f17c35f7240>"
      ]
     },
     "execution_count": 210,
     "metadata": {},
     "output_type": "execute_result"
    },
    {
     "data": {
      "image/png": "[encoded data removed]",
      "text/plain": [
       "<Figure size 648x648 with 1 Axes>"
      ]
     },
     "metadata": {
      "needs_background": "light"
     },
     "output_type": "display_data"
    }
   ],
   "source": [
    "#your code here\n",
    "t_rv_5 = stats.t(5)\n",
    "t_rv_10 = stats.t(10)\n",
    "t_rv_20 = stats.t(20)\n",
    "t_rv_40 = stats.t(40)\n",
    "x = np.linspace(-4, 4, 100)\n",
    "plt.figure(figsize=(9,9))\n",
    "pdf_5 = t_rv_5.pdf(x)\n",
    "plt.plot(x, pdf_5, label='Student df = 5')\n",
    "pdf_10 = t_rv_10.pdf(x)\n",
    "plt.plot(x, pdf_10, label='Student df = 10')\n",
    "pdf_20 = t_rv_20.pdf(x)\n",
    "plt.plot(x, pdf_20, label='Student df = 20')\n",
    "pdf_40 = t_rv_40.pdf(x)\n",
    "plt.plot(x, pdf_40, label='Student df = 40')\n",
    "plt.legend()\n",
    "# Чем больше степеней свободы - тем ближе распределение Стьтюдента к нормальному. Распределение Стьюдента ниже в центре и выше на хвостах."
   ]
  },
  {
   "cell_type": "markdown",
   "metadata": {},
   "source": [
    "- Постройте две выборки, чтобы их корреляция была равна -1. Изобразите зависимость на графике."
   ]
  },
  {
   "cell_type": "code",
   "execution_count": 216,
   "metadata": {},
   "outputs": [
    {
     "name": "stdout",
     "output_type": "stream",
     "text": [
      "correlation_y1_y2 = -1.0\n"
     ]
    },
    {
     "data": {
      "image/png": "[encoded data removed]",
      "text/plain": [
       "<Figure size 432x288 with 1 Axes>"
      ]
     },
     "metadata": {
      "needs_background": "light"
     },
     "output_type": "display_data"
    }
   ],
   "source": [
    "#your code here\n",
    "x = np.arange(1,11,1)\n",
    "y1 = np.arange(1,11,1)\n",
    "y2 = np.arange(10,0,-1)\n",
    "plt.xlabel('y1')\n",
    "plt.ylabel('y2')\n",
    "plt.scatter(y1,y2)\n",
    "\n",
    "# Считаем коэффициент корреляции Пирсона вручную\n",
    "cov_1 = ((y1 - y1.mean())*(y2 - y2.mean())).sum() / len(y1)\n",
    "corr_1 = cov_1/(y1.std()*y2.std())\n",
    "print('correlation_y1_y2 = {}'.format(corr_1))"
   ]
  },
  {
   "cell_type": "markdown",
   "metadata": {},
   "source": [
    "- Постройте две выборки, чтобы их корреляция была равна 0. Изобразите зависимость на графике."
   ]
  },
  {
   "cell_type": "code",
   "execution_count": 244,
   "metadata": {},
   "outputs": [
    {
     "name": "stdout",
     "output_type": "stream",
     "text": [
      "correlation_y1_y2 = 0.0\n"
     ]
    },
    {
     "data": {
      "image/png": "[encoded data removed]",
      "text/plain": [
       "<Figure size 432x288 with 1 Axes>"
      ]
     },
     "metadata": {
      "needs_background": "light"
     },
     "output_type": "display_data"
    }
   ],
   "source": [
    "#your code here\n",
    "x = np.arange(1,11,1)\n",
    "y1 = np.arange(-5,6,1)\n",
    "y2 = np.abs(y1)\n",
    "plt.xlabel('y1')\n",
    "plt.ylabel('y2')\n",
    "plt.scatter(y1,y2)\n",
    "\n",
    "# Считаем коэффициент корреляции Пирсона вручную\n",
    "cov_2 = ((y1 - y1.mean())*(y2 - y2.mean())).sum() / len(y1)\n",
    "corr_2 = cov_2/(y1.std()*y2.std())\n",
    "print('correlation_y1_y2 = {}'.format(corr_2))"
   ]
  },
  {
   "cell_type": "code",
   "execution_count": 239,
   "metadata": {},
   "outputs": [
    {
     "name": "stdout",
     "output_type": "stream",
     "text": [
      "correlation_y1_y2 = 0.0\n"
     ]
    },
    {
     "data": {
      "image/png": "[encoded data removed]",
      "text/plain": [
       "<Figure size 432x288 with 1 Axes>"
      ]
     },
     "metadata": {
      "needs_background": "light"
     },
     "output_type": "display_data"
    }
   ],
   "source": [
    "#your code here\n",
    "x = np.linspace(-np.pi, np.pi, 50)\n",
    "sin_x = np.sin(x)\n",
    "cos_x = np.cos(x)\n",
    "\n",
    "plt.xlabel('sin_x')\n",
    "plt.ylabel('cos_x')\n",
    "plt.scatter(sin_x, cos_x)\n",
    "\n",
    "# Считаем коэффициент корреляции Пирсона вручную\n",
    "cov_2 = ((sin_x - sin_x.mean())*(cos_x - cos_x.mean())).sum() / len(sin_x)\n",
    "corr_2 = round(cov_2,10)/(sin_x.std()*cos_x.std())\n",
    "print('correlation_y1_y2 = {}'.format(corr_2))"
   ]
  },
  {
   "cell_type": "markdown",
   "metadata": {},
   "source": [
    "- Сгенерируйте 2 выборки из $\\mathcal{N}(4,2)$, посчитайте их общий ранг и сумму рангов в каждой выборке."
   ]
  },
  {
   "cell_type": "code",
   "execution_count": 359,
   "metadata": {},
   "outputs": [
    {
     "name": "stdout",
     "output_type": "stream",
     "text": [
      "Sample 1 sum of ranks: 9955\n",
      "Sample 2 sum of ranks: 9945\n"
     ]
    }
   ],
   "source": [
    "norm_rv = stats.norm(4,2)\n",
    "sample_1 = norm_rv.rvs(100)\n",
    "sample_2 = norm_rv.rvs(100)\n",
    "sample = np.concatenate((sample_1, sample_2))\n",
    "#your code here\n",
    "#Тут считаем общий ранг,\n",
    "# точнее собираем словарь сортированных значений из двух выборок, где key - ранг, value - значение\n",
    "sample_ranks = {}\n",
    "i = 0\n",
    "for val in sorted(sample):\n",
    "    sample_ranks[i] = val\n",
    "    i += 1\n",
    "# Бежим по словарю выбирая значения из первой и второй выборок\n",
    "s1_sum = 0\n",
    "s2_sum = 0\n",
    "for rank, value in sample_ranks.items():\n",
    "    if value in sample_1:\n",
    "        s1_sum += rank\n",
    "    else:\n",
    "        s2_sum += rank\n",
    "\n",
    "print('Sample 1 sum of ranks: {}\\nSample 2 sum of ranks: {}'.format(s1_sum, s2_sum))"
   ]
  }
 ],
 "metadata": {
  "kernelspec": {
   "display_name": "Python 3",
   "language": "python",
   "name": "python3"
  },
  "language_info": {
   "codemirror_mode": {
    "name": "ipython",
    "version": 3
   },
   "file_extension": ".py",
   "mimetype": "text/x-python",
   "name": "python",
   "nbconvert_exporter": "python",
   "pygments_lexer": "ipython3",
   "version": "3.7.0"
  }
 },
 "nbformat": 4,
 "nbformat_minor": 2
}
